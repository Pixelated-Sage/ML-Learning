{
 "cells": [
  {
   "cell_type": "code",
   "execution_count": 4,
   "id": "fd16ef95-d99e-4e65-9fdc-86a25cc84a7f",
   "metadata": {},
   "outputs": [
    {
     "name": "stdout",
     "output_type": "stream",
     "text": [
      "[[30 40 40]\n",
      " [40 30 10]]\n",
      "(2, 3)\n",
      "2\n",
      "6\n",
      "<class 'numpy.ndarray'>\n",
      "int64\n",
      "[[30. 40. 40.]\n",
      " [40. 30. 10.]]\n",
      "[['30' '40' '40']\n",
      " ['40' '30' '10']]\n"
     ]
    }
   ],
   "source": [
    "import numpy as np\n",
    "\n",
    "a = [[30,40,40],[40,30,10]]\n",
    "arr = np.array(a)\n",
    "\n",
    "print(arr)\n",
    "print(arr.shape) #rows, columns\n",
    "print(len(arr)) #number of nested values\n",
    "print(np.size(arr)) #number of elements\n",
    "print(type(arr)) #datatype of variable\n",
    "print(arr.dtype) #datatype of array\n",
    "print(arr.astype(float)) #conversion\n",
    "print(arr.astype(str)) "
   ]
  }
 ],
 "metadata": {
  "kernelspec": {
   "display_name": "Python 3 (ipykernel)",
   "language": "python",
   "name": "python3"
  },
  "language_info": {
   "codemirror_mode": {
    "name": "ipython",
    "version": 3
   },
   "file_extension": ".py",
   "mimetype": "text/x-python",
   "name": "python",
   "nbconvert_exporter": "python",
   "pygments_lexer": "ipython3",
   "version": "3.13.3"
  }
 },
 "nbformat": 4,
 "nbformat_minor": 5
}
