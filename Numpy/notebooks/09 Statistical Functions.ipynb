{
 "cells": [
  {
   "cell_type": "code",
   "execution_count": 6,
   "id": "e49caef6-9600-4b73-afb3-673c18acd697",
   "metadata": {},
   "outputs": [],
   "source": [
    "import numpy as np\n",
    "import statistics as stats"
   ]
  },
  {
   "cell_type": "code",
   "execution_count": 9,
   "id": "85089a18-6327-4cb4-b5f1-786cb83abfeb",
   "metadata": {},
   "outputs": [
    {
     "name": "stdout",
     "output_type": "stream",
     "text": [
      "202.25\n",
      "194.0\n",
      "200\n",
      "55.68157235567257\n",
      "3100.4375\n"
     ]
    }
   ],
   "source": [
    "baked_food = [200,300,150,130,200,280,170,188]\n",
    "\n",
    "a = np.array(baked_food)\n",
    "print(np.mean(baked_food))\n",
    "\n",
    "print(np.median(baked_food))\n",
    "\n",
    "print(stats.mode(baked_food))\n",
    "\n",
    "# standard deviation\n",
    "print(np.std(baked_food)) # it generally shows the spread of the data (in graph form) , less the number = less the spread (vise-verse)\n",
    "\n",
    "# varience\n",
    "print(np.var(baked_food)) # square root of standard deviation\n"
   ]
  },
  {
   "cell_type": "code",
   "execution_count": 12,
   "id": "8ec03272-5166-4e5c-8784-f8d8043842ca",
   "metadata": {},
   "outputs": [
    {
     "name": "stdout",
     "output_type": "stream",
     "text": [
      "[[1.         0.99015454]\n",
      " [0.99015454 1.        ]]\n"
     ]
    }
   ],
   "source": [
    "# -1 represent inversely proportional relationship\n",
    "# 1 represent proportional relationship\n",
    "# 0 means no relationship \n",
    "tobacco_consumption = [30,50,10,30,50,40]\n",
    "deaths = [100,120,70,100,120,112]\n",
    "\n",
    "print(np.corrcoef([tobacco_consumption,deaths]))\n",
    "    "
   ]
  },
  {
   "cell_type": "code",
   "execution_count": 14,
   "id": "3d9dee88-f7e2-49ac-b667-9775e6228d90",
   "metadata": {},
   "outputs": [
    {
     "name": "stdout",
     "output_type": "stream",
     "text": [
      "[[ 1.         -0.63175671]\n",
      " [-0.63175671  1.        ]]\n"
     ]
    }
   ],
   "source": [
    "price = [300,100,350,150,200]\n",
    "sales = [10,20,7,17,2]\n",
    "\n",
    "print(np.corrcoef([price,sales]))"
   ]
  }
 ],
 "metadata": {
  "kernelspec": {
   "display_name": "Python 3 (ipykernel)",
   "language": "python",
   "name": "python3"
  },
  "language_info": {
   "codemirror_mode": {
    "name": "ipython",
    "version": 3
   },
   "file_extension": ".py",
   "mimetype": "text/x-python",
   "name": "python",
   "nbconvert_exporter": "python",
   "pygments_lexer": "ipython3",
   "version": "3.13.3"
  }
 },
 "nbformat": 4,
 "nbformat_minor": 5
}
