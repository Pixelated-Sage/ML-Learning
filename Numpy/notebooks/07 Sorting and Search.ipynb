{
 "cells": [
  {
   "cell_type": "code",
   "execution_count": 1,
   "id": "3d7164a5-4165-4e1a-b2cb-8acc9eecd255",
   "metadata": {},
   "outputs": [],
   "source": [
    "import numpy as np"
   ]
  },
  {
   "cell_type": "code",
   "execution_count": 2,
   "id": "39688ede-e1fa-4d81-bb7b-5fa912a908e2",
   "metadata": {},
   "outputs": [
    {
     "name": "stdout",
     "output_type": "stream",
     "text": [
      "[ 1 20 46 50 70]\n"
     ]
    }
   ],
   "source": [
    "# sorting in 1D array\n",
    "ar = np.array([20,50,70,1,46])\n",
    "print(np.sort(ar))"
   ]
  },
  {
   "cell_type": "code",
   "execution_count": 6,
   "id": "a7075a81-a147-4cda-b76d-04d0be4aa207",
   "metadata": {},
   "outputs": [
    {
     "name": "stdout",
     "output_type": "stream",
     "text": [
      "[[1 2 4 6 7 9]\n",
      " [2 2 4 4 6 8]]\n"
     ]
    }
   ],
   "source": [
    "#Sorting in 2D array\n",
    "ar2 = np.array([[7,4,2,1,6,9],[6,4,2,8,2,4]])\n",
    "print(np.sort(ar2))"
   ]
  },
  {
   "cell_type": "code",
   "execution_count": 13,
   "id": "be89e42d-26ea-4920-9533-15b004d5bb4d",
   "metadata": {},
   "outputs": [
    {
     "name": "stdout",
     "output_type": "stream",
     "text": [
      "(array([2]),)\n",
      "(array([0, 1, 2, 4]),)\n"
     ]
    }
   ],
   "source": [
    "# Searching in array\n",
    "\n",
    "s = np.where(ar == 70)\n",
    "print(s)\n",
    "\n",
    "s = np.where(ar%2 ==0)\n",
    "print(s)"
   ]
  },
  {
   "cell_type": "code",
   "execution_count": 16,
   "id": "7d7146e0-f4a2-4ca6-83a0-983c4679d83a",
   "metadata": {},
   "outputs": [
    {
     "name": "stdout",
     "output_type": "stream",
     "text": [
      "1\n"
     ]
    }
   ],
   "source": [
    "# Search sorted\n",
    "\n",
    "ar3 = np.array([1,2,3,4,5,6])\n",
    "ss = np.searchsorted(ar3,2)\n",
    "print(ss)"
   ]
  },
  {
   "cell_type": "code",
   "execution_count": 25,
   "id": "c258795f-5793-4106-b18e-4850ac399730",
   "metadata": {},
   "outputs": [
    {
     "name": "stdout",
     "output_type": "stream",
     "text": [
      "[20 40  7]\n"
     ]
    }
   ],
   "source": [
    "# Filter \n",
    "\n",
    "ar4 = np.array([20,30,40,50,7])\n",
    "fa = [True, False, True, False,True]\n",
    "\n",
    "new = ar4[fa]\n",
    "print(new)"
   ]
  },
  {
   "cell_type": "code",
   "execution_count": 26,
   "id": "6a63e9f7-c374-45a8-ba91-003608554a82",
   "metadata": {},
   "outputs": [
    {
     "name": "stdout",
     "output_type": "stream",
     "text": [
      "[40 50]\n"
     ]
    }
   ],
   "source": [
    "fa = ar4>35\n",
    "new = ar4[fa]\n",
    "print(new)"
   ]
  },
  {
   "cell_type": "code",
   "execution_count": 27,
   "id": "3af8d379-e705-4997-b567-f4e7ae7c8dd6",
   "metadata": {},
   "outputs": [
    {
     "name": "stdout",
     "output_type": "stream",
     "text": [
      "[20 30 40 50]\n"
     ]
    }
   ],
   "source": [
    "fa = ar4%2==0\n",
    "new = ar4[fa]\n",
    "print(new)"
   ]
  }
 ],
 "metadata": {
  "kernelspec": {
   "display_name": "Python 3 (ipykernel)",
   "language": "python",
   "name": "python3"
  },
  "language_info": {
   "codemirror_mode": {
    "name": "ipython",
    "version": 3
   },
   "file_extension": ".py",
   "mimetype": "text/x-python",
   "name": "python",
   "nbconvert_exporter": "python",
   "pygments_lexer": "ipython3",
   "version": "3.13.3"
  }
 },
 "nbformat": 4,
 "nbformat_minor": 5
}
