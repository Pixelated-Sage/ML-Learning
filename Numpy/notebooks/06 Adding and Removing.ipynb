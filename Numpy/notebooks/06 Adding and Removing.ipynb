{
 "cells": [
  {
   "cell_type": "code",
   "execution_count": 11,
   "id": "cc77ea35-82ae-4b3f-99d2-5b1fd683fc3c",
   "metadata": {},
   "outputs": [],
   "source": [
    "import numpy as np"
   ]
  },
  {
   "cell_type": "code",
   "execution_count": 12,
   "id": "6d47a720-b976-4aef-981d-feae00c15e30",
   "metadata": {},
   "outputs": [
    {
     "name": "stdout",
     "output_type": "stream",
     "text": [
      "[ 20  40  60  80  90 100]\n"
     ]
    }
   ],
   "source": [
    "a = np.array([[20,40],[60,80]])\n",
    "print(np.append(a,[90,100]))"
   ]
  },
  {
   "cell_type": "code",
   "execution_count": 13,
   "id": "4e356db7-f8de-4ffa-9024-7b044e49359d",
   "metadata": {},
   "outputs": [
    {
     "name": "stdout",
     "output_type": "stream",
     "text": [
      "[20 50 40 60 80]\n",
      "------------------------------\n",
      "[20 50 40 60 80]\n"
     ]
    }
   ],
   "source": [
    "a = np.array([[20,40],[60,80]])\n",
    "b = np.array([20,40,60,80])\n",
    "print(np.insert(a,1,50))\n",
    "print(\"-\"*30)\n",
    "print(np.insert(b,1,50))"
   ]
  },
  {
   "cell_type": "code",
   "execution_count": 14,
   "id": "45fa0ba7-4a74-4b31-b927-81c52cd87bbc",
   "metadata": {},
   "outputs": [
    {
     "name": "stdout",
     "output_type": "stream",
     "text": [
      "[[20 40]\n",
      " [50 50]\n",
      " [60 80]\n",
      " [50 50]]\n"
     ]
    }
   ],
   "source": [
    "print(np.insert(a,[1,2],[50],axis=0))"
   ]
  },
  {
   "cell_type": "code",
   "execution_count": 15,
   "id": "deb52044-6d75-42e5-b1b2-cd777af21e1d",
   "metadata": {},
   "outputs": [
    {
     "name": "stdout",
     "output_type": "stream",
     "text": [
      "[20 60 80]\n"
     ]
    }
   ],
   "source": [
    "# deleting data\n",
    "\n",
    "print(np.delete(a,1))"
   ]
  }
 ],
 "metadata": {
  "kernelspec": {
   "display_name": "Python 3 (ipykernel)",
   "language": "python",
   "name": "python3"
  },
  "language_info": {
   "codemirror_mode": {
    "name": "ipython",
    "version": 3
   },
   "file_extension": ".py",
   "mimetype": "text/x-python",
   "name": "python",
   "nbconvert_exporter": "python",
   "pygments_lexer": "ipython3",
   "version": "3.13.3"
  }
 },
 "nbformat": 4,
 "nbformat_minor": 5
}
