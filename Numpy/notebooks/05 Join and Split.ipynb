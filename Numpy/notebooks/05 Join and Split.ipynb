{
 "cells": [
  {
   "cell_type": "code",
   "execution_count": 4,
   "id": "635c0578-c7f5-467c-bf55-590199fa60e8",
   "metadata": {
    "editable": true,
    "slideshow": {
     "slide_type": ""
    },
    "tags": []
   },
   "outputs": [],
   "source": [
    "import numpy as np"
   ]
  },
  {
   "cell_type": "code",
   "execution_count": 5,
   "id": "22fcc4ed-a5f4-45e3-b2c2-52553dfe4153",
   "metadata": {},
   "outputs": [
    {
     "name": "stdout",
     "output_type": "stream",
     "text": [
      "[30.4, 50, 5, 5, 3]\n"
     ]
    }
   ],
   "source": [
    "a = [30.40,50]\n",
    "b = [5,5,3]\n",
    "print(a+b)"
   ]
  },
  {
   "cell_type": "code",
   "execution_count": 8,
   "id": "30d1ec6e-36dc-44b9-b835-60d5882c6a38",
   "metadata": {},
   "outputs": [
    {
     "name": "stdout",
     "output_type": "stream",
     "text": [
      "[[30 40]\n",
      " [10 50]\n",
      " [ 5  5]\n",
      " [ 7  3]]\n"
     ]
    }
   ],
   "source": [
    "#Concatinate\n",
    "\n",
    "arr1 = np.array([[30,40],[10,50]])\n",
    "arr2 = np.array([[5,5],[7,3]])\n",
    "print(np.concatenate([arr1,arr2]))"
   ]
  },
  {
   "cell_type": "code",
   "execution_count": 18,
   "id": "55a2e1b1-8c1a-4e5a-a0c2-63245b9a3073",
   "metadata": {},
   "outputs": [
    {
     "name": "stdout",
     "output_type": "stream",
     "text": [
      "[[30 40  5  5]\n",
      " [10 50  7  3]]\n",
      "-----------------------------------\n",
      "[[30 40]\n",
      " [10 50]\n",
      " [ 5  5]\n",
      " [ 7  3]]\n",
      "-----------------------------------\n",
      "[[30 40  5  5]\n",
      " [10 50  7  3]]\n",
      "-----------------------------------\n",
      "[[30 40]\n",
      " [10 50]\n",
      " [ 5  5]\n",
      " [ 7  3]]\n"
     ]
    }
   ],
   "source": [
    "print(np.concatenate([arr1,arr2], axis = 1))\n",
    "print(\"-\"*35)\n",
    "print(np.concatenate([arr1,arr2], axis = 0))\n",
    "print(\"-\"*35)\n",
    "#horizontal stack\n",
    "print(np.hstack([arr1,arr2]))\n",
    "#vertical stack\n",
    "print(\"-\"*35)\n",
    "print(np.vstack([arr1,arr2]))"
   ]
  },
  {
   "cell_type": "code",
   "execution_count": 19,
   "id": "0e616f67-1b09-49ec-99eb-9868fef7edae",
   "metadata": {},
   "outputs": [
    {
     "name": "stdout",
     "output_type": "stream",
     "text": [
      "[array([20, 40]), array([30]), array([40]), array([10]), array([20])]\n"
     ]
    }
   ],
   "source": [
    "#split \n",
    "\n",
    "a = np.array([20,40,30,40,10,20])\n",
    "b = np.array_split(a,5)\n",
    "print(b)\n"
   ]
  },
  {
   "cell_type": "code",
   "execution_count": 20,
   "id": "91e6eed4-7380-4afd-9e0c-d65277d43311",
   "metadata": {},
   "outputs": [
    {
     "name": "stdout",
     "output_type": "stream",
     "text": [
      "[array([[20, 40, 30]]), array([[40, 10, 20]]), array([], shape=(0, 3), dtype=int64), array([], shape=(0, 3), dtype=int64), array([], shape=(0, 3), dtype=int64)]\n"
     ]
    }
   ],
   "source": [
    "a = np.array([[20,40,30],[40,10,20]])\n",
    "b = np.array_split(a,5)\n",
    "print(b)"
   ]
  }
 ],
 "metadata": {
  "kernelspec": {
   "display_name": "Python 3 (ipykernel)",
   "language": "python",
   "name": "python3"
  },
  "language_info": {
   "codemirror_mode": {
    "name": "ipython",
    "version": 3
   },
   "file_extension": ".py",
   "mimetype": "text/x-python",
   "name": "python",
   "nbconvert_exporter": "python",
   "pygments_lexer": "ipython3",
   "version": "3.13.5"
  }
 },
 "nbformat": 4,
 "nbformat_minor": 5
}
