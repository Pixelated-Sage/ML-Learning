{
 "cells": [
  {
   "cell_type": "markdown",
   "metadata": {},
   "source": [
    "**Mastering Numpy Array**\n",
    "\n",
    "NumPy(Numerical Python) is the fundamental package for numerical computation in Python. It provides powerful tools for working with arrays, which are essential for data science, machine learning, and scientific computing.\n",
    "\n",
    "1. Creting NumPy Arrays:\n",
    "    - From Lists/Tuples:"
   ]
  },
  {
   "cell_type": "code",
   "execution_count": 2,
   "metadata": {},
   "outputs": [
    {
     "name": "stdout",
     "output_type": "stream",
     "text": [
      "[1 2 3 4 5]\n",
      "<class 'numpy.ndarray'>\n",
      "[1 2 3 4 5]\n"
     ]
    }
   ],
   "source": [
    "import numpy as np\n",
    "\n",
    "my_list = [1,2,3,4,5]\n",
    "arr = np.array(my_list)\n",
    "print(arr)\n",
    "print(type(arr))    \n",
    "\n",
    "my_tuple = (1,2,3,4,5)\n",
    "arr_from_tuple =  np.array(my_tuple)\n",
    "print(arr_from_tuple)"
   ]
  },
  {
   "cell_type": "markdown",
   "metadata": {},
   "source": [
    "-    \n",
    "    - Specialized Array Creation:\n",
    "        - np.zeros(shape) : Create an array filled with zeros.\n",
    "        - no.ones(shape) : Creates an array filled with ones.\n",
    "        - np.arange(start, stop, step) : Creates an array with evenly spaced values within a given range.\n",
    "        - np.linespace(start,stop,step) : Creates an array with num evenly spaced values over a specific interval.\n",
    "        - np.eye(N) : Creates an identity matrix (a square matrix with ones on the main diagonal and zeros elsewhere). "
   ]
  },
  {
   "cell_type": "code",
   "execution_count": 5,
   "metadata": {},
   "outputs": [
    {
     "name": "stdout",
     "output_type": "stream",
     "text": [
      "[[0. 0. 0. 0.]\n",
      " [0. 0. 0. 0.]\n",
      " [0. 0. 0. 0.]]\n",
      "[[1. 1.]\n",
      " [1. 1.]]\n",
      "[0 2 4 6 8]\n",
      "[0.   0.25 0.5  0.75 1.  ]\n",
      "[[1. 0. 0.]\n",
      " [0. 1. 0.]\n",
      " [0. 0. 1.]]\n"
     ]
    }
   ],
   "source": [
    "zeroes_arr = np.zeros((3,4))\n",
    "print(zeroes_arr)\n",
    "\n",
    "ones_arr = np.ones((2,2))\n",
    "print(ones_arr)\n",
    "\n",
    "arange_arr = np.arange(0,10,2)   # start at 0 , stop before 10, step by 2\n",
    "print(arange_arr)\n",
    "\n",
    "linespace_arr = np.linspace(0,1,5)   # 5 evenly spaced values form 0 to 1\n",
    "print(linespace_arr)\n",
    "\n",
    "identity_matrix = np.eye(3)\n",
    "print(identity_matrix)"
   ]
  },
  {
   "cell_type": "markdown",
   "metadata": {},
   "source": [
    "2. Array Attributes:\n",
    "    - ndim : Number of dimensions (axes).\n",
    "    - shape : Tuple representing the dimensions.\n",
    "    - dtype : Data type of the elements.\n",
    "    - size : Total number of elements."
   ]
  },
  {
   "cell_type": "code",
   "execution_count": 7,
   "metadata": {},
   "outputs": [
    {
     "name": "stdout",
     "output_type": "stream",
     "text": [
      "2\n",
      "(2, 3)\n",
      "int64\n",
      "6\n"
     ]
    }
   ],
   "source": [
    "arr = np.array([[1,2,3],[4,5,6]])\n",
    "\n",
    "print(arr.ndim)\n",
    "print(arr.shape)\n",
    "print(arr.dtype)\n",
    "print(arr.size)"
   ]
  },
  {
   "cell_type": "markdown",
   "metadata": {},
   "source": [
    "3. Array Indexing and Slicing:\n",
    "    - Similar to lists, but with more powerful multi-dimensional indexing."
   ]
  },
  {
   "cell_type": "code",
   "execution_count": 8,
   "metadata": {},
   "outputs": [
    {
     "name": "stdout",
     "output_type": "stream",
     "text": [
      "20\n",
      "[40 50 60]\n",
      "[30 60]\n",
      "[[20 30]\n",
      " [50 60]]\n"
     ]
    }
   ],
   "source": [
    "arr = np.array([[10,20,30],[40,50,60]])\n",
    "\n",
    "print(arr[0, 1])    # Output: 20 (element at row 0, column 1)\n",
    "print(arr[1, :])    # Output: [40 50 60] (all elements in row 1)\n",
    "print(arr[:, 2])    # Output: [30 60] (all elements in column 2)\n",
    "print(arr[0:2, 1:3]) # Output: [[20 30],[50 60]]"
   ]
  },
  {
   "cell_type": "markdown",
   "metadata": {},
   "source": [
    "4. Array Operations:\n",
    "    - Element-wise operations: Operations are performed on corresponding elements."
   ]
  },
  {
   "cell_type": "code",
   "execution_count": 9,
   "metadata": {},
   "outputs": [
    {
     "name": "stdout",
     "output_type": "stream",
     "text": [
      "[5 7 9]\n",
      "[ 4 10 18]\n",
      "[2 4 6]\n"
     ]
    }
   ],
   "source": [
    "arr1 = np.array([1,2,3])\n",
    "arr2 = np.array([4,5,6])\n",
    "\n",
    "print(arr1+arr2)\n",
    "print(arr1*arr2)\n",
    "print(arr1*2)\n"
   ]
  },
  {
   "cell_type": "markdown",
   "metadata": {},
   "source": [
    "- \n",
    "   - Matrix Operations: Matrix multiplication, dot product, transpose."
   ]
  },
  {
   "cell_type": "code",
   "execution_count": null,
   "metadata": {},
   "outputs": [],
   "source": [
    "matrix1 = np.array([[1,2],[3,4]])\n",
    "matrix2 = np.array([[5,6],[7,8]])\n",
    "print(np.dot(matrix1,matrix2))  #Matrix multiplication\n",
    "print(matrix1.T)    #Transpose of a matrix"
   ]
  },
  {
   "cell_type": "markdown",
   "metadata": {},
   "source": [
    "-   - Universal Functions (ufuncs): Functions that operate element-wise on array (eg, np.sin(), np.exp(), np.sqrt())."
   ]
  },
  {
   "cell_type": "code",
   "execution_count": 4,
   "metadata": {},
   "outputs": [
    {
     "name": "stdout",
     "output_type": "stream",
     "text": [
      "[0.0000000e+00 1.0000000e+00 1.2246468e-16]\n"
     ]
    }
   ],
   "source": [
    "arr = np.array([0,np.pi/2,np.pi])\n",
    "print(np.sin(arr)) "
   ]
  },
  {
   "cell_type": "markdown",
   "metadata": {},
   "source": [
    "5. Array Broadcasting:\n",
    "\n",
    "    - NumPy's broadcasting allows you to perform operations on arrays of different shapes under certain conditions."
   ]
  },
  {
   "cell_type": "code",
   "execution_count": 5,
   "metadata": {},
   "outputs": [
    {
     "name": "stdout",
     "output_type": "stream",
     "text": [
      "[6 7 8]\n"
     ]
    }
   ],
   "source": [
    "arr = np.array([1,2,3])\n",
    "scalar = 5\n",
    "print(arr+scalar)"
   ]
  },
  {
   "cell_type": "markdown",
   "metadata": {},
   "source": [
    "6. Array Reshaping and Flattening:\n",
    "    - reshape(shape): Changes the shape of an array.\n",
    "    - flatten(): Converts a multi-dimentional array to a 1D array."
   ]
  },
  {
   "cell_type": "code",
   "execution_count": 6,
   "metadata": {},
   "outputs": [
    {
     "name": "stdout",
     "output_type": "stream",
     "text": [
      "[[1 2 3]\n",
      " [4 5 6]]\n",
      "[1 2 3 4 5 6]\n"
     ]
    }
   ],
   "source": [
    "arr = np.array([1,2,3,4,5,6])\n",
    "\n",
    "reshaped_arr = arr.reshape(2,3)\n",
    "print(reshaped_arr)\n",
    "\n",
    "flattened_arr = reshaped_arr.flatten()\n",
    "print(flattened_arr)"
   ]
  },
  {
   "cell_type": "markdown",
   "metadata": {},
   "source": [
    "7. Random Number Generation:\n",
    "    - np.random.rand(shape) : Generates random numbers between 0 and 1.\n",
    "    - np.random.randint(low, high,size) : Generates random integers within a specific range.\n",
    "    - np.random.normal(mean, stddev, size) : Generates random numbers form a normal distribution."
   ]
  },
  {
   "cell_type": "markdown",
   "metadata": {},
   "source": [
    "Assignment/code test:\n",
    "- Create a 4x4 matrix with random integers between 10 and 50.\n",
    "- Calculate the mean of each row and each column of the matrix.\n",
    "- Create a new array containing only the diagonal elements of the matrix.\n",
    "- Reshape the matrix into a 2x8 matrix.\n",
    "- Create two 3x3 matrices and perform matrix multiplication on them."
   ]
  },
  {
   "cell_type": "code",
   "execution_count": 51,
   "metadata": {},
   "outputs": [
    {
     "name": "stdout",
     "output_type": "stream",
     "text": [
      "[[10 10 10 10]\n",
      " [10 10 10 10]\n",
      " [10 10 10 10]\n",
      " [10 10 10 10]]\n",
      "[10. 10. 10. 10.]\n",
      "[10. 10. 10. 10.]\n",
      "[[1 0 0]\n",
      " [0 1 0]\n",
      " [0 0 1]]\n",
      "[[ 1  2  3  4  5  6  7  8]\n",
      " [ 9  0 11 12 13 14 15 16]]\n",
      "[[7 9 8]\n",
      " [3 4 6]\n",
      " [2 1 1]] \n",
      " second array : \n",
      "  [[5 4 7]\n",
      " [2 1 1]\n",
      " [9 2 2]] \n",
      " the multiple is : \n",
      " [[35 36 56]\n",
      " [ 6  4  6]\n",
      " [18  2  2]]\n"
     ]
    }
   ],
   "source": [
    "# 1\n",
    "\n",
    "arr = np.random.randint(10,11,16)\n",
    "matrix = arr.reshape(4,4)\n",
    "print(matrix)\n",
    "\n",
    "# 2\n",
    "\n",
    "mean_column = np.mean(matrix, axis=0)\n",
    "print(mean_column)\n",
    "\n",
    "mean_rows = np.mean(matrix,axis=1)\n",
    "print(mean_rows)\n",
    "\n",
    "# 3\n",
    "\n",
    "arr = np.eye(3,3,0,int)\n",
    "print(arr)\n",
    "\n",
    "\n",
    "# 4\n",
    "\n",
    "arr = np.array([1,2,3,4,5,6,7,8,9,0,11,12,13,14,15,16])\n",
    "reshaped_arr = arr.reshape(2,8)\n",
    "print(reshaped_arr)\n",
    "\n",
    "\n",
    "# 5\n",
    "\n",
    "matrix1 = np.random.randint(1,10,9).reshape(3,3)\n",
    "matrix2 = np.random.randint(1,10,9).reshape(3,3)\n",
    "print(matrix1,\"\\n second array : \\n \",matrix2,\"\\n the multiple is : \\n\", matrix1*matrix2)"
   ]
  }
 ],
 "metadata": {
  "kernelspec": {
   "display_name": "Python 3",
   "language": "python",
   "name": "python3"
  },
  "language_info": {
   "codemirror_mode": {
    "name": "ipython",
    "version": 3
   },
   "file_extension": ".py",
   "mimetype": "text/x-python",
   "name": "python",
   "nbconvert_exporter": "python",
   "pygments_lexer": "ipython3",
   "version": "3.12.4"
  }
 },
 "nbformat": 4,
 "nbformat_minor": 2
}
