{
 "cells": [
  {
   "cell_type": "markdown",
   "id": "0950a4c9-e5ff-4c92-83ab-59a50ab93a67",
   "metadata": {},
   "source": [
    "## **Numpy- Creating Arrays, Slicing and Attributes**"
   ]
  },
  {
   "cell_type": "markdown",
   "id": "d0ed4a16-27c5-4629-8b6b-ac95e4705850",
   "metadata": {},
   "source": [
    "#### **Creating**"
   ]
  },
  {
   "cell_type": "code",
   "execution_count": 17,
   "id": "66fcd1da-f4ca-42e9-a88c-84511e7df7b8",
   "metadata": {},
   "outputs": [
    {
     "name": "stdout",
     "output_type": "stream",
     "text": [
      "[10 20 30 40]\n",
      "<class 'numpy.ndarray'>\n"
     ]
    }
   ],
   "source": [
    "import numpy as np\n",
    "arr1 = np.array([[10,20,30,40],[50,60,70,80],[20,40,60,80]])\n",
    "\n",
    "print(arr)\n",
    "print(type(arr))\n"
   ]
  },
  {
   "cell_type": "markdown",
   "id": "2cf6c471-06e0-4daa-a79b-813b0b8e7a2e",
   "metadata": {},
   "source": [
    "#### **Slicing**"
   ]
  },
  {
   "cell_type": "code",
   "execution_count": 18,
   "id": "1129742d-4d5e-4f64-a76a-9b797c9377b9",
   "metadata": {},
   "outputs": [
    {
     "name": "stdout",
     "output_type": "stream",
     "text": [
      "[30 40]\n",
      "[[10 20 30]\n",
      " [50 60 70]]\n",
      "[10 20]\n"
     ]
    }
   ],
   "source": [
    "arr2 = np.array([10,20,30,40])\n",
    "print(arr2[2:])\n",
    "\n",
    "print(arr1[0:2,0:3])\n",
    "\n",
    "print(arr1[0,0:2])"
   ]
  },
  {
   "cell_type": "markdown",
   "id": "15401b04-46f3-474a-afbe-6a4237b87e18",
   "metadata": {},
   "source": [
    "#### **Attributes**"
   ]
  },
  {
   "cell_type": "code",
   "execution_count": null,
   "id": "f4cc2b61-23b3-4e70-930f-d5ade9c9a7b8",
   "metadata": {},
   "outputs": [
    {
     "name": "stdout",
     "output_type": "stream",
     "text": [
      "(3, 4)\n",
      "12\n",
      "2\n",
      "int64\n"
     ]
    }
   ],
   "source": [
    "print(np.shape(arr1))\n",
    "\n",
    "print(np.size(arr1))\n",
    "\n",
    "print(np.ndim(arr1))\n",
    "\n",
    "print(arr.dtype)\n",
    "\n",
    "print(\"hello world\")"
   ]
  }
 ],
 "metadata": {
  "kernelspec": {
   "display_name": "Python 3 (ipykernel)",
   "language": "python",
   "name": "python3"
  },
  "language_info": {
   "codemirror_mode": {
    "name": "ipython",
    "version": 3
   },
   "file_extension": ".py",
   "mimetype": "text/x-python",
   "name": "python",
   "nbconvert_exporter": "python",
   "pygments_lexer": "ipython3",
   "version": "3.13.3"
  }
 },
 "nbformat": 4,
 "nbformat_minor": 5
}
