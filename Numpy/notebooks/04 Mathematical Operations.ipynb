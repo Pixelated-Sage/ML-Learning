{
 "cells": [
  {
   "cell_type": "code",
   "execution_count": 4,
   "id": "85abecd7-c3c9-45c9-b698-dfe2aec25109",
   "metadata": {},
   "outputs": [
    {
     "name": "stdout",
     "output_type": "stream",
     "text": [
      "[60 60 70 40 30]\n",
      "[60 60 70 40 30]\n"
     ]
    }
   ],
   "source": [
    "import numpy as np\n",
    "\n",
    "arr1 = np.array([30,40,60,20,10])\n",
    "arr2 = np.array([30,20,10,20,20])\n",
    "\n",
    "print(arr1+arr2)\n",
    "print(np.add(arr1, arr2))"
   ]
  },
  {
   "cell_type": "code",
   "execution_count": 6,
   "id": "f9b7fd4f-c668-4515-bbd2-cb8fbf3edae6",
   "metadata": {},
   "outputs": [
    {
     "name": "stdout",
     "output_type": "stream",
     "text": [
      "[[  0  20]\n",
      " [  0 -10]]\n",
      "[[  0  20]\n",
      " [  0 -10]]\n"
     ]
    }
   ],
   "source": [
    "arr1 = np.array([[30,40],[20,10]])\n",
    "arr2 = np.array([[30,20],[20,20]])\n",
    "\n",
    "print(arr1-arr2)\n",
    "print(np.subtract(arr1, arr2))"
   ]
  },
  {
   "cell_type": "code",
   "execution_count": 7,
   "id": "3b3e104a-5264-44a9-9c19-75cfbd99f37b",
   "metadata": {},
   "outputs": [
    {
     "name": "stdout",
     "output_type": "stream",
     "text": [
      "[[900 800]\n",
      " [400 200]]\n",
      "[[900 800]\n",
      " [400 200]]\n"
     ]
    }
   ],
   "source": [
    "arr1 = np.array([[30,40],[20,10]])\n",
    "arr2 = np.array([[30,20],[20,20]])\n",
    "\n",
    "print(arr1*arr2)\n",
    "print(np.multiply(arr1, arr2))"
   ]
  }
 ],
 "metadata": {
  "kernelspec": {
   "display_name": "Python 3 (ipykernel)",
   "language": "python",
   "name": "python3"
  },
  "language_info": {
   "codemirror_mode": {
    "name": "ipython",
    "version": 3
   },
   "file_extension": ".py",
   "mimetype": "text/x-python",
   "name": "python",
   "nbconvert_exporter": "python",
   "pygments_lexer": "ipython3",
   "version": "3.13.3"
  }
 },
 "nbformat": 4,
 "nbformat_minor": 5
}
