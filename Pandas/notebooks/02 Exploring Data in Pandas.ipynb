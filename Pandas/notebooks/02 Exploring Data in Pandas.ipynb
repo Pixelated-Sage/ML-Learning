{
 "cells": [
  {
   "cell_type": "code",
   "execution_count": 1,
   "id": "ebb8af19-0e68-4a6a-b1a8-835dd7be9834",
   "metadata": {},
   "outputs": [
    {
     "name": "stdout",
     "output_type": "stream",
     "text": [
      "              Company Name            Industry  Revenue (USD)  Employees  \\\n",
      "0    Tech Solutions Inc. 1           Logistics   7.012866e+09      63330   \n",
      "1      Pinnacle Ventures 2  Telecommunications   4.057722e+09      11865   \n",
      "2      Nexus Innovations 3           Logistics   3.508134e+09      24612   \n",
      "3             Alpha Corp 4         Hospitality   1.038657e+09      18700   \n",
      "4             Alpha Corp 5          Consulting   5.513866e+08      67206   \n",
      "..                     ...                 ...            ...        ...   \n",
      "95  Tech Solutions Inc. 96           Education   4.723566e+09      60766   \n",
      "96       Infinite Reach 97  Telecommunications   7.443903e+09      27429   \n",
      "97  Tech Solutions Inc. 98           Logistics   7.855107e+09      32061   \n",
      "98      Zenith Holdings 99              Retail   5.627981e+09      73008   \n",
      "99         Fusion Labs 100              Retail   2.567418e+09      42754   \n",
      "\n",
      "           City State  Founded Year  \n",
      "0        Denver    CA          1973  \n",
      "1        Denver    CA          1979  \n",
      "2        London    FL          1990  \n",
      "3   Los Angeles    FR          2018  \n",
      "4       Chicago    UK          2023  \n",
      "..          ...   ...           ...  \n",
      "95        Miami    GA          2008  \n",
      "96       Boston    UK          1950  \n",
      "97       Mumbai    FR          2010  \n",
      "98      Atlanta    FL          1952  \n",
      "99       Berlin    OR          1977  \n",
      "\n",
      "[100 rows x 7 columns]\n"
     ]
    }
   ],
   "source": [
    "import pandas as pd\n",
    "\n",
    "data = pd.read_excel(\"dummy_company_data.xlsx\")\n",
    "print(data)"
   ]
  },
  {
   "cell_type": "code",
   "execution_count": 2,
   "id": "cfd91488-1e65-4883-afa6-2197333736af",
   "metadata": {},
   "outputs": [
    {
     "name": "stdout",
     "output_type": "stream",
     "text": [
      "                Company Name            Industry  Revenue (USD)  Employees  \\\n",
      "0      Tech Solutions Inc. 1           Logistics   7.012866e+09      63330   \n",
      "1        Pinnacle Ventures 2  Telecommunications   4.057722e+09      11865   \n",
      "2        Nexus Innovations 3           Logistics   3.508134e+09      24612   \n",
      "3               Alpha Corp 4         Hospitality   1.038657e+09      18700   \n",
      "4               Alpha Corp 5          Consulting   5.513866e+08      67206   \n",
      "5        Nexus Innovations 6           Logistics   7.535379e+09      41456   \n",
      "6         BlueSky Software 7           Aerospace   4.865755e+09      63821   \n",
      "7  Global Innovations Ltd. 8          Automotive   8.850976e+09      19086   \n",
      "8           Visionary Tech 9              Retail   5.755476e+09      29576   \n",
      "9         BrightSpark Co. 10           Logistics   1.213141e+09      61113   \n",
      "\n",
      "          City State  Founded Year  \n",
      "0       Denver    CA          1973  \n",
      "1       Denver    CA          1979  \n",
      "2       London    FL          1990  \n",
      "3  Los Angeles    FR          2018  \n",
      "4      Chicago    UK          2023  \n",
      "5       Berlin    GA          1970  \n",
      "6      Seattle    CA          2009  \n",
      "7       Austin    AE          2012  \n",
      "8       Dallas    WA          1957  \n",
      "9      Chicago    JP          1954  \n"
     ]
    }
   ],
   "source": [
    "print(data.head(10))"
   ]
  },
  {
   "cell_type": "code",
   "execution_count": 3,
   "id": "6a2490c3-2bc2-4d08-9871-1c75037e7d69",
   "metadata": {},
   "outputs": [
    {
     "name": "stdout",
     "output_type": "stream",
     "text": [
      "                Company Name            Industry  Revenue (USD)  Employees  \\\n",
      "90       BlueSky Software 91           Aerospace   3.093483e+09      78321   \n",
      "91  Precision Engineering 92       Biotechnology   5.987881e+09      47370   \n",
      "92   Streamline Logistics 93          Consulting   6.945335e+09      96630   \n",
      "93          Apex Robotics 94           Education   5.173448e+08      70717   \n",
      "94    Swift Manufacturing 95           Logistics   6.832049e+09      27353   \n",
      "95    Tech Solutions Inc. 96           Education   4.723566e+09      60766   \n",
      "96         Infinite Reach 97  Telecommunications   7.443903e+09      27429   \n",
      "97    Tech Solutions Inc. 98           Logistics   7.855107e+09      32061   \n",
      "98        Zenith Holdings 99              Retail   5.627981e+09      73008   \n",
      "99           Fusion Labs 100              Retail   2.567418e+09      42754   \n",
      "\n",
      "           City State  Founded Year  \n",
      "90      Atlanta    CA          2018  \n",
      "91        Dubai    CO          1985  \n",
      "92       London    OR          1958  \n",
      "93  Los Angeles    IN          1954  \n",
      "94  Los Angeles    DE          1987  \n",
      "95        Miami    GA          2008  \n",
      "96       Boston    UK          1950  \n",
      "97       Mumbai    FR          2010  \n",
      "98      Atlanta    FL          1952  \n",
      "99       Berlin    OR          1977  \n"
     ]
    }
   ],
   "source": [
    "print(data.tail(10))"
   ]
  },
  {
   "cell_type": "code",
   "execution_count": 4,
   "id": "50b967db-a735-4940-861e-458a578909d8",
   "metadata": {},
   "outputs": [
    {
     "name": "stdout",
     "output_type": "stream",
     "text": [
      "<class 'pandas.core.frame.DataFrame'>\n",
      "RangeIndex: 100 entries, 0 to 99\n",
      "Data columns (total 7 columns):\n",
      " #   Column         Non-Null Count  Dtype  \n",
      "---  ------         --------------  -----  \n",
      " 0   Company Name   100 non-null    object \n",
      " 1   Industry       100 non-null    object \n",
      " 2   Revenue (USD)  100 non-null    float64\n",
      " 3   Employees      100 non-null    int64  \n",
      " 4   City           100 non-null    object \n",
      " 5   State          100 non-null    object \n",
      " 6   Founded Year   100 non-null    int64  \n",
      "dtypes: float64(1), int64(2), object(4)\n",
      "memory usage: 5.6+ KB\n",
      "None\n"
     ]
    }
   ],
   "source": [
    "print(data.info())"
   ]
  },
  {
   "cell_type": "code",
   "execution_count": 5,
   "id": "d0daf35b-f1e0-4d73-8a05-650ecb1eb8b9",
   "metadata": {},
   "outputs": [
    {
     "data": {
      "text/html": [
       "<div>\n",
       "<style scoped>\n",
       "    .dataframe tbody tr th:only-of-type {\n",
       "        vertical-align: middle;\n",
       "    }\n",
       "\n",
       "    .dataframe tbody tr th {\n",
       "        vertical-align: top;\n",
       "    }\n",
       "\n",
       "    .dataframe thead th {\n",
       "        text-align: right;\n",
       "    }\n",
       "</style>\n",
       "<table border=\"1\" class=\"dataframe\">\n",
       "  <thead>\n",
       "    <tr style=\"text-align: right;\">\n",
       "      <th></th>\n",
       "      <th>Revenue (USD)</th>\n",
       "      <th>Employees</th>\n",
       "      <th>Founded Year</th>\n",
       "    </tr>\n",
       "  </thead>\n",
       "  <tbody>\n",
       "    <tr>\n",
       "      <th>count</th>\n",
       "      <td>1.000000e+02</td>\n",
       "      <td>100.000000</td>\n",
       "      <td>100.000000</td>\n",
       "    </tr>\n",
       "    <tr>\n",
       "      <th>mean</th>\n",
       "      <td>4.706633e+09</td>\n",
       "      <td>51764.360000</td>\n",
       "      <td>1984.970000</td>\n",
       "    </tr>\n",
       "    <tr>\n",
       "      <th>std</th>\n",
       "      <td>2.925432e+09</td>\n",
       "      <td>27369.968787</td>\n",
       "      <td>22.908891</td>\n",
       "    </tr>\n",
       "    <tr>\n",
       "      <th>min</th>\n",
       "      <td>9.678578e+07</td>\n",
       "      <td>65.000000</td>\n",
       "      <td>1950.000000</td>\n",
       "    </tr>\n",
       "    <tr>\n",
       "      <th>25%</th>\n",
       "      <td>1.852553e+09</td>\n",
       "      <td>30448.250000</td>\n",
       "      <td>1963.500000</td>\n",
       "    </tr>\n",
       "    <tr>\n",
       "      <th>50%</th>\n",
       "      <td>4.963523e+09</td>\n",
       "      <td>53435.000000</td>\n",
       "      <td>1985.500000</td>\n",
       "    </tr>\n",
       "    <tr>\n",
       "      <th>75%</th>\n",
       "      <td>7.015747e+09</td>\n",
       "      <td>74451.000000</td>\n",
       "      <td>2005.000000</td>\n",
       "    </tr>\n",
       "    <tr>\n",
       "      <th>max</th>\n",
       "      <td>9.889549e+09</td>\n",
       "      <td>99736.000000</td>\n",
       "      <td>2023.000000</td>\n",
       "    </tr>\n",
       "  </tbody>\n",
       "</table>\n",
       "</div>"
      ],
      "text/plain": [
       "       Revenue (USD)     Employees  Founded Year\n",
       "count   1.000000e+02    100.000000    100.000000\n",
       "mean    4.706633e+09  51764.360000   1984.970000\n",
       "std     2.925432e+09  27369.968787     22.908891\n",
       "min     9.678578e+07     65.000000   1950.000000\n",
       "25%     1.852553e+09  30448.250000   1963.500000\n",
       "50%     4.963523e+09  53435.000000   1985.500000\n",
       "75%     7.015747e+09  74451.000000   2005.000000\n",
       "max     9.889549e+09  99736.000000   2023.000000"
      ]
     },
     "execution_count": 5,
     "metadata": {},
     "output_type": "execute_result"
    }
   ],
   "source": [
    "data.describe()"
   ]
  },
  {
   "cell_type": "code",
   "execution_count": 8,
   "id": "e7925458-29c9-41ba-a83a-6cee6df9829b",
   "metadata": {},
   "outputs": [
    {
     "name": "stdout",
     "output_type": "stream",
     "text": [
      "Company Name     0\n",
      "Industry         0\n",
      "Revenue (USD)    0\n",
      "Employees        0\n",
      "City             0\n",
      "State            0\n",
      "Founded Year     0\n",
      "dtype: int64\n"
     ]
    }
   ],
   "source": [
    "print(data.isnull().sum())"
   ]
  }
 ],
 "metadata": {
  "kernelspec": {
   "display_name": "Python 3 (ipykernel)",
   "language": "python",
   "name": "python3"
  },
  "language_info": {
   "codemirror_mode": {
    "name": "ipython",
    "version": 3
   },
   "file_extension": ".py",
   "mimetype": "text/x-python",
   "name": "python",
   "nbconvert_exporter": "python",
   "pygments_lexer": "ipython3",
   "version": "3.13.5"
  }
 },
 "nbformat": 4,
 "nbformat_minor": 5
}
