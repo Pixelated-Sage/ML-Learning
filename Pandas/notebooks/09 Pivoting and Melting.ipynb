{
 "cells": [
  {
   "cell_type": "code",
   "execution_count": 10,
   "id": "1ceb8979-caba-465f-8d02-0af2f26e1f32",
   "metadata": {},
   "outputs": [
    {
     "name": "stdout",
     "output_type": "stream",
     "text": [
      "  key  Names  House Grades\n",
      "0  k1   John    red    3rd\n",
      "1  k2    Ben   blue    8th\n",
      "2  k1  David  green    9th\n",
      "3  k2  Peter    red    8th\n"
     ]
    }
   ],
   "source": [
    "import pandas as pd\n",
    "\n",
    "#Pivoting\n",
    "dict = {\"key\": [\"k1\",\"k2\",\"k1\",\"k2\"],\n",
    "        \"Names\": [\"John\", \"Ben\", \"David\",\"Peter\"],\n",
    "        \"House\": [\"red\", \"blue\", \"green\",\"red\"],\n",
    "        \"Grades\":[\"3rd\",\"8th\",\"9th\",\"8th\"],\n",
    "        }\n",
    "\n",
    "df = pd.DataFrame(dict)\n",
    "print(df)"
   ]
  },
  {
   "cell_type": "code",
   "execution_count": 12,
   "id": "ebce9553-9a73-4de0-a38e-90e16c558b4a",
   "metadata": {},
   "outputs": [
    {
     "name": "stdout",
     "output_type": "stream",
     "text": [
      "      House                   Grades                 \n",
      "Names   Ben  David John Peter    Ben David John Peter\n",
      "key                                                  \n",
      "k1      NaN  green  red   NaN    NaN   9th  3rd   NaN\n",
      "k2     blue    NaN  NaN   red    8th   NaN  NaN   8th\n"
     ]
    }
   ],
   "source": [
    "print(df.pivot(index=\"key\",columns=\"Names\", values=[\"House\",\"Grades\"]))"
   ]
  },
  {
   "cell_type": "code",
   "execution_count": 13,
   "id": "60046856-d26b-43ce-b486-8cf5a7d22af1",
   "metadata": {},
   "outputs": [
    {
     "name": "stdout",
     "output_type": "stream",
     "text": [
      "   Names  House Grades\n",
      "0   John    red    3rd\n",
      "1    Ben   blue    8th\n",
      "2  David  green    9th\n",
      "3  Peter    red    8th\n"
     ]
    }
   ],
   "source": [
    "# Melting\n",
    "dict = {\n",
    "        \"Names\": [\"John\", \"Ben\", \"David\",\"Peter\"],\n",
    "        \"House\": [\"red\", \"blue\", \"green\",\"red\"],\n",
    "        \"Grades\":[\"3rd\",\"8th\",\"9th\",\"8th\"],\n",
    "        }\n",
    "\n",
    "df2 = pd.DataFrame(dict)\n",
    "print(df2)"
   ]
  },
  {
   "cell_type": "code",
   "execution_count": 17,
   "id": "d6af9e11-9caa-4097-af7b-4e3b335dd37b",
   "metadata": {},
   "outputs": [
    {
     "name": "stdout",
     "output_type": "stream",
     "text": [
      "   Names Houses&Grades Values\n",
      "0   John         House    red\n",
      "1    Ben         House   blue\n",
      "2  David         House  green\n",
      "3  Peter         House    red\n",
      "4   John        Grades    3rd\n",
      "5    Ben        Grades    8th\n",
      "6  David        Grades    9th\n",
      "7  Peter        Grades    8th\n"
     ]
    }
   ],
   "source": [
    "print(pd.melt(df,id_vars=[\"Names\"], value_vars=[\"House\",\"Grades\"], var_name=\"Houses&Grades\", value_name=\"Values\"))"
   ]
  }
 ],
 "metadata": {
  "kernelspec": {
   "display_name": "Python 3 (ipykernel)",
   "language": "python",
   "name": "python3"
  },
  "language_info": {
   "codemirror_mode": {
    "name": "ipython",
    "version": 3
   },
   "file_extension": ".py",
   "mimetype": "text/x-python",
   "name": "python",
   "nbconvert_exporter": "python",
   "pygments_lexer": "ipython3",
   "version": "3.13.5"
  }
 },
 "nbformat": 4,
 "nbformat_minor": 5
}
