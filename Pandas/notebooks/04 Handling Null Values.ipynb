{
 "cells": [
  {
   "cell_type": "code",
   "execution_count": 52,
   "id": "dc097a3e-c0e3-4e53-be86-6f9b1abdaea1",
   "metadata": {},
   "outputs": [
    {
     "name": "stdout",
     "output_type": "stream",
     "text": [
      "                  Company Name            Industry  Revenue (USD)  Employees  \\\n",
      "0      Evergreen Enterprises 1           Aerospace            NaN      74965   \n",
      "1        Tech Solutions Inc. 2           Aerospace   8.661980e+09      11234   \n",
      "2          Quantum Analytics 3           Aerospace   9.970827e+09      25549   \n",
      "3            Dynamic Systems 4  Telecommunications   5.834267e+09      90686   \n",
      "4            Dynamic Systems 5       Biotechnology            NaN       4485   \n",
      "5            Dynamic Systems 6                 NaN   5.925562e+09      40712   \n",
      "6                 Alpha Corp 7                 NaN   1.514421e+09      31358   \n",
      "7            Dynamic Systems 8                 NaN            NaN      55684   \n",
      "8          Pinnacle Ventures 9                 NaN   2.149816e+09      35161   \n",
      "9     Evergreen Enterprises 10           Aerospace   5.442955e+09      37731   \n",
      "10    Evergreen Enterprises 11          Automotive   3.338997e+09      21086   \n",
      "11          Dynamic Systems 12       Biotechnology            NaN      12477   \n",
      "12        Pinnacle Ventures 13                 NaN   1.510194e+09      66620   \n",
      "13        Pinnacle Ventures 14       Biotechnology   9.919445e+08      84290   \n",
      "14        Quantum Analytics 15           Aerospace   2.398626e+09      91031   \n",
      "15  Global Innovations Ltd. 16           Aerospace            NaN      30262   \n",
      "16  Global Innovations Ltd. 17          Automotive   8.367965e+09      97530   \n",
      "17    Evergreen Enterprises 18           Aerospace   9.383701e+09      30679   \n",
      "18               Alpha Corp 19          Automotive   7.211204e+09       8961   \n",
      "19      Tech Solutions Inc. 20  Telecommunications            NaN      25433   \n",
      "\n",
      "      City State  Founded Year  \n",
      "0    Dubai    JP        2018.0  \n",
      "1    Dubai    DE        1991.0  \n",
      "2    Tokyo    UK        1951.0  \n",
      "3   Sydney    UK           NaN  \n",
      "4      NaN    UK        1990.0  \n",
      "5    Paris    DE        1982.0  \n",
      "6   London    DE        1963.0  \n",
      "7   Mumbai    IN           NaN  \n",
      "8   Berlin   NaN        2008.0  \n",
      "9      NaN    AU        2006.0  \n",
      "10   Tokyo    AE        1990.0  \n",
      "11  Berlin    FR           NaN  \n",
      "12     NaN    UK        2007.0  \n",
      "13   Paris    AE        2021.0  \n",
      "14  Sydney   NaN        2019.0  \n",
      "15  Berlin    AU        2006.0  \n",
      "16  Mumbai    UK           NaN  \n",
      "17   Paris    FR        1981.0  \n",
      "18  Sydney    DE        2010.0  \n",
      "19   Dubai    AU        1953.0  \n"
     ]
    }
   ],
   "source": [
    "import pandas as pd\n",
    "\n",
    "data = pd.read_excel(\"dummy_company_data.xlsx\")\n",
    "print(data)"
   ]
  },
  {
   "cell_type": "code",
   "execution_count": 53,
   "id": "dc0ecd8d-79ae-49d5-8bdc-ed0c9cd469b7",
   "metadata": {},
   "outputs": [
    {
     "name": "stdout",
     "output_type": "stream",
     "text": [
      "Company Name     0\n",
      "Industry         5\n",
      "Revenue (USD)    6\n",
      "Employees        0\n",
      "City             3\n",
      "State            2\n",
      "Founded Year     4\n",
      "dtype: int64\n"
     ]
    }
   ],
   "source": [
    "print(data.isnull().sum())"
   ]
  },
  {
   "cell_type": "code",
   "execution_count": 54,
   "id": "14c7c83e-a708-4db9-a170-29a5fc89078f",
   "metadata": {},
   "outputs": [
    {
     "name": "stdout",
     "output_type": "stream",
     "text": [
      "                Company Name       Industry  Revenue (USD)  Employees    City  \\\n",
      "1      Tech Solutions Inc. 2      Aerospace   8.661980e+09      11234   Dubai   \n",
      "2        Quantum Analytics 3      Aerospace   9.970827e+09      25549   Tokyo   \n",
      "10  Evergreen Enterprises 11     Automotive   3.338997e+09      21086   Tokyo   \n",
      "13      Pinnacle Ventures 14  Biotechnology   9.919445e+08      84290   Paris   \n",
      "17  Evergreen Enterprises 18      Aerospace   9.383701e+09      30679   Paris   \n",
      "18             Alpha Corp 19     Automotive   7.211204e+09       8961  Sydney   \n",
      "\n",
      "   State  Founded Year  \n",
      "1     DE        1991.0  \n",
      "2     UK        1951.0  \n",
      "10    AE        1990.0  \n",
      "13    AE        2021.0  \n",
      "17    FR        1981.0  \n",
      "18    DE        2010.0  \n"
     ]
    }
   ],
   "source": [
    "print(data.dropna())"
   ]
  },
  {
   "cell_type": "code",
   "execution_count": 55,
   "id": "3108c784-fb17-49a0-acae-d2466ec74f26",
   "metadata": {},
   "outputs": [
    {
     "name": "stdout",
     "output_type": "stream",
     "text": [
      "                  Company Name            Industry  Revenue (USD)  Employees  \\\n",
      "0      Evergreen Enterprises 1           Aerospace            NaN      74965   \n",
      "1        Tech Solutions Inc. 2           Aerospace   8.661980e+09      11234   \n",
      "2          Quantum Analytics 3           Aerospace   9.970827e+09      25549   \n",
      "3            Dynamic Systems 4  Telecommunications   5.834267e+09      90686   \n",
      "4            Dynamic Systems 5       Biotechnology            NaN       4485   \n",
      "5            Dynamic Systems 6                 NaN   5.925562e+09      40712   \n",
      "6                 Alpha Corp 7                 NaN   1.514421e+09      31358   \n",
      "7            Dynamic Systems 8                 NaN            NaN      55684   \n",
      "8          Pinnacle Ventures 9                 NaN   2.149816e+09      35161   \n",
      "9     Evergreen Enterprises 10           Aerospace   5.442955e+09      37731   \n",
      "10    Evergreen Enterprises 11          Automotive   3.338997e+09      21086   \n",
      "11          Dynamic Systems 12       Biotechnology            NaN      12477   \n",
      "12        Pinnacle Ventures 13                 NaN   1.510194e+09      66620   \n",
      "13        Pinnacle Ventures 14       Biotechnology   9.919445e+08      84290   \n",
      "14        Quantum Analytics 15           Aerospace   2.398626e+09      91031   \n",
      "15  Global Innovations Ltd. 16           Aerospace            NaN      30262   \n",
      "16  Global Innovations Ltd. 17          Automotive   8.367965e+09      97530   \n",
      "17    Evergreen Enterprises 18           Aerospace   9.383701e+09      30679   \n",
      "18               Alpha Corp 19          Automotive   7.211204e+09       8961   \n",
      "19      Tech Solutions Inc. 20  Telecommunications            NaN      25433   \n",
      "\n",
      "      City State  Founded Year  \n",
      "0    Dubai    JP        2018.0  \n",
      "1    Dubai    DE        1991.0  \n",
      "2    Tokyo    UK        1951.0  \n",
      "3   Sydney    UK           NaN  \n",
      "4      NaN    UK        1990.0  \n",
      "5    Paris    DE        1982.0  \n",
      "6   London    DE        1963.0  \n",
      "7   Mumbai    IN           NaN  \n",
      "8   Berlin   NaN        2008.0  \n",
      "9      NaN    AU        2006.0  \n",
      "10   Tokyo    AE        1990.0  \n",
      "11  Berlin    FR           NaN  \n",
      "12     NaN    UK        2007.0  \n",
      "13   Paris    AE        2021.0  \n",
      "14  Sydney   NaN        2019.0  \n",
      "15  Berlin    AU        2006.0  \n",
      "16  Mumbai    UK           NaN  \n",
      "17   Paris    FR        1981.0  \n",
      "18  Sydney    DE        2010.0  \n",
      "19   Dubai    AU        1953.0  \n"
     ]
    }
   ],
   "source": [
    "print(data)"
   ]
  },
  {
   "cell_type": "code",
   "execution_count": 56,
   "id": "fde4dc33-966f-4d81-8754-639c2f6c57f3",
   "metadata": {},
   "outputs": [
    {
     "name": "stdout",
     "output_type": "stream",
     "text": [
      "                  Company Name            Industry  Revenue (USD)  Employees  \\\n",
      "0      Evergreen Enterprises 1           Aerospace             hi      74965   \n",
      "1        Tech Solutions Inc. 2           Aerospace   8661979835.4      11234   \n",
      "2          Quantum Analytics 3           Aerospace  9970827093.17      25549   \n",
      "3            Dynamic Systems 4  Telecommunications  5834267201.15      90686   \n",
      "4            Dynamic Systems 5       Biotechnology             hi       4485   \n",
      "5            Dynamic Systems 6                  hi   5925562172.0      40712   \n",
      "6                 Alpha Corp 7                  hi  1514421475.94      31358   \n",
      "7            Dynamic Systems 8                  hi             hi      55684   \n",
      "8          Pinnacle Ventures 9                  hi  2149815958.65      35161   \n",
      "9     Evergreen Enterprises 10           Aerospace  5442955196.58      37731   \n",
      "10    Evergreen Enterprises 11          Automotive  3338996978.18      21086   \n",
      "11          Dynamic Systems 12       Biotechnology             hi      12477   \n",
      "12        Pinnacle Ventures 13                  hi  1510194433.17      66620   \n",
      "13        Pinnacle Ventures 14       Biotechnology   991944453.47      84290   \n",
      "14        Quantum Analytics 15           Aerospace  2398625735.17      91031   \n",
      "15  Global Innovations Ltd. 16           Aerospace             hi      30262   \n",
      "16  Global Innovations Ltd. 17          Automotive   8367965269.8      97530   \n",
      "17    Evergreen Enterprises 18           Aerospace  9383701164.59      30679   \n",
      "18               Alpha Corp 19          Automotive  7211204002.23       8961   \n",
      "19      Tech Solutions Inc. 20  Telecommunications             hi      25433   \n",
      "\n",
      "      City State Founded Year  \n",
      "0    Dubai    JP       2018.0  \n",
      "1    Dubai    DE       1991.0  \n",
      "2    Tokyo    UK       1951.0  \n",
      "3   Sydney    UK           hi  \n",
      "4       hi    UK       1990.0  \n",
      "5    Paris    DE       1982.0  \n",
      "6   London    DE       1963.0  \n",
      "7   Mumbai    IN           hi  \n",
      "8   Berlin    hi       2008.0  \n",
      "9       hi    AU       2006.0  \n",
      "10   Tokyo    AE       1990.0  \n",
      "11  Berlin    FR           hi  \n",
      "12      hi    UK       2007.0  \n",
      "13   Paris    AE       2021.0  \n",
      "14  Sydney    hi       2019.0  \n",
      "15  Berlin    AU       2006.0  \n",
      "16  Mumbai    UK           hi  \n",
      "17   Paris    FR       1981.0  \n",
      "18  Sydney    DE       2010.0  \n",
      "19   Dubai    AU       1953.0  \n"
     ]
    }
   ],
   "source": [
    "import numpy as np\n",
    "print(data.replace(np.nan,\"hi\")) #but all nan value needs different data type as in emplyees count and industry name has"
   ]
  },
  {
   "cell_type": "code",
   "execution_count": 57,
   "id": "984fd291-36f0-4356-8052-e96d979e833d",
   "metadata": {},
   "outputs": [
    {
     "name": "stdout",
     "output_type": "stream",
     "text": [
      "                  Company Name            Industry  Revenue (USD)  Employees  \\\n",
      "0      Evergreen Enterprises 1           Aerospace            NaN      74965   \n",
      "1        Tech Solutions Inc. 2           Aerospace   8.661980e+09      11234   \n",
      "2          Quantum Analytics 3           Aerospace   9.970827e+09      25549   \n",
      "3            Dynamic Systems 4  Telecommunications   5.834267e+09      90686   \n",
      "4            Dynamic Systems 5       Biotechnology            NaN       4485   \n",
      "5            Dynamic Systems 6    Unknown Industry   5.925562e+09      40712   \n",
      "6                 Alpha Corp 7    Unknown Industry   1.514421e+09      31358   \n",
      "7            Dynamic Systems 8    Unknown Industry            NaN      55684   \n",
      "8          Pinnacle Ventures 9    Unknown Industry   2.149816e+09      35161   \n",
      "9     Evergreen Enterprises 10           Aerospace   5.442955e+09      37731   \n",
      "10    Evergreen Enterprises 11          Automotive   3.338997e+09      21086   \n",
      "11          Dynamic Systems 12       Biotechnology            NaN      12477   \n",
      "12        Pinnacle Ventures 13    Unknown Industry   1.510194e+09      66620   \n",
      "13        Pinnacle Ventures 14       Biotechnology   9.919445e+08      84290   \n",
      "14        Quantum Analytics 15           Aerospace   2.398626e+09      91031   \n",
      "15  Global Innovations Ltd. 16           Aerospace            NaN      30262   \n",
      "16  Global Innovations Ltd. 17          Automotive   8.367965e+09      97530   \n",
      "17    Evergreen Enterprises 18           Aerospace   9.383701e+09      30679   \n",
      "18               Alpha Corp 19          Automotive   7.211204e+09       8961   \n",
      "19      Tech Solutions Inc. 20  Telecommunications            NaN      25433   \n",
      "\n",
      "      City State  Founded Year  \n",
      "0    Dubai    JP        2018.0  \n",
      "1    Dubai    DE        1991.0  \n",
      "2    Tokyo    UK        1951.0  \n",
      "3   Sydney    UK           NaN  \n",
      "4      NaN    UK        1990.0  \n",
      "5    Paris    DE        1982.0  \n",
      "6   London    DE        1963.0  \n",
      "7   Mumbai    IN           NaN  \n",
      "8   Berlin   NaN        2008.0  \n",
      "9      NaN    AU        2006.0  \n",
      "10   Tokyo    AE        1990.0  \n",
      "11  Berlin    FR           NaN  \n",
      "12     NaN    UK        2007.0  \n",
      "13   Paris    AE        2021.0  \n",
      "14  Sydney   NaN        2019.0  \n",
      "15  Berlin    AU        2006.0  \n",
      "16  Mumbai    UK           NaN  \n",
      "17   Paris    FR        1981.0  \n",
      "18  Sydney    DE        2010.0  \n",
      "19   Dubai    AU        1953.0  \n"
     ]
    }
   ],
   "source": [
    "data[\"Industry\"] = data[\"Industry\"].replace(np.nan,\"Unknown Industry\")\n",
    "print(data)"
   ]
  },
  {
   "cell_type": "code",
   "execution_count": 58,
   "id": "5eeb89ee-b74c-4afc-8149-1c9db3ba8a12",
   "metadata": {},
   "outputs": [
    {
     "name": "stdout",
     "output_type": "stream",
     "text": [
      "Company Name     0\n",
      "Industry         0\n",
      "Revenue (USD)    6\n",
      "Employees        0\n",
      "City             3\n",
      "State            2\n",
      "Founded Year     4\n",
      "dtype: int64\n"
     ]
    }
   ],
   "source": [
    "print(data.isnull().sum())"
   ]
  },
  {
   "cell_type": "code",
   "execution_count": 59,
   "id": "2b2e54d3-aea1-4687-ae87-d338474ca1b5",
   "metadata": {},
   "outputs": [
    {
     "name": "stdout",
     "output_type": "stream",
     "text": [
      "                  Company Name            Industry  Revenue (USD)  Employees  \\\n",
      "0      Evergreen Enterprises 1           Aerospace   8.661980e+09      74965   \n",
      "1        Tech Solutions Inc. 2           Aerospace   8.661980e+09      11234   \n",
      "2          Quantum Analytics 3           Aerospace   9.970827e+09      25549   \n",
      "3            Dynamic Systems 4  Telecommunications   5.834267e+09      90686   \n",
      "4            Dynamic Systems 5       Biotechnology   5.925562e+09       4485   \n",
      "5            Dynamic Systems 6    Unknown Industry   5.925562e+09      40712   \n",
      "6                 Alpha Corp 7    Unknown Industry   1.514421e+09      31358   \n",
      "7            Dynamic Systems 8    Unknown Industry   2.149816e+09      55684   \n",
      "8          Pinnacle Ventures 9    Unknown Industry   2.149816e+09      35161   \n",
      "9     Evergreen Enterprises 10           Aerospace   5.442955e+09      37731   \n",
      "10    Evergreen Enterprises 11          Automotive   3.338997e+09      21086   \n",
      "11          Dynamic Systems 12       Biotechnology   1.510194e+09      12477   \n",
      "12        Pinnacle Ventures 13    Unknown Industry   1.510194e+09      66620   \n",
      "13        Pinnacle Ventures 14       Biotechnology   9.919445e+08      84290   \n",
      "14        Quantum Analytics 15           Aerospace   2.398626e+09      91031   \n",
      "15  Global Innovations Ltd. 16           Aerospace   8.367965e+09      30262   \n",
      "16  Global Innovations Ltd. 17          Automotive   8.367965e+09      97530   \n",
      "17    Evergreen Enterprises 18           Aerospace   9.383701e+09      30679   \n",
      "18               Alpha Corp 19          Automotive   7.211204e+09       8961   \n",
      "19      Tech Solutions Inc. 20  Telecommunications            NaN      25433   \n",
      "\n",
      "      City State  Founded Year  \n",
      "0    Dubai    JP        2018.0  \n",
      "1    Dubai    DE        1991.0  \n",
      "2    Tokyo    UK        1951.0  \n",
      "3   Sydney    UK        1990.0  \n",
      "4    Paris    UK        1990.0  \n",
      "5    Paris    DE        1982.0  \n",
      "6   London    DE        1963.0  \n",
      "7   Mumbai    IN        2008.0  \n",
      "8   Berlin    AU        2008.0  \n",
      "9    Tokyo    AU        2006.0  \n",
      "10   Tokyo    AE        1990.0  \n",
      "11  Berlin    FR        2007.0  \n",
      "12   Paris    UK        2007.0  \n",
      "13   Paris    AE        2021.0  \n",
      "14  Sydney    AU        2019.0  \n",
      "15  Berlin    AU        2006.0  \n",
      "16  Mumbai    UK        1981.0  \n",
      "17   Paris    FR        1981.0  \n",
      "18  Sydney    DE        2010.0  \n",
      "19   Dubai    AU        1953.0  \n"
     ]
    }
   ],
   "source": [
    "# to fill the below value of nan into nan\n",
    "\n",
    "print(data.bfill())"
   ]
  },
  {
   "cell_type": "code",
   "execution_count": 60,
   "id": "d8a1fa8e-06fc-4828-bebe-7e73221a16d4",
   "metadata": {},
   "outputs": [
    {
     "name": "stdout",
     "output_type": "stream",
     "text": [
      "                  Company Name            Industry  Revenue (USD)  Employees  \\\n",
      "0      Evergreen Enterprises 1           Aerospace            NaN      74965   \n",
      "1        Tech Solutions Inc. 2           Aerospace   8.661980e+09      11234   \n",
      "2          Quantum Analytics 3           Aerospace   9.970827e+09      25549   \n",
      "3            Dynamic Systems 4  Telecommunications   5.834267e+09      90686   \n",
      "4            Dynamic Systems 5       Biotechnology   5.834267e+09       4485   \n",
      "5            Dynamic Systems 6    Unknown Industry   5.925562e+09      40712   \n",
      "6                 Alpha Corp 7    Unknown Industry   1.514421e+09      31358   \n",
      "7            Dynamic Systems 8    Unknown Industry   1.514421e+09      55684   \n",
      "8          Pinnacle Ventures 9    Unknown Industry   2.149816e+09      35161   \n",
      "9     Evergreen Enterprises 10           Aerospace   5.442955e+09      37731   \n",
      "10    Evergreen Enterprises 11          Automotive   3.338997e+09      21086   \n",
      "11          Dynamic Systems 12       Biotechnology   3.338997e+09      12477   \n",
      "12        Pinnacle Ventures 13    Unknown Industry   1.510194e+09      66620   \n",
      "13        Pinnacle Ventures 14       Biotechnology   9.919445e+08      84290   \n",
      "14        Quantum Analytics 15           Aerospace   2.398626e+09      91031   \n",
      "15  Global Innovations Ltd. 16           Aerospace   2.398626e+09      30262   \n",
      "16  Global Innovations Ltd. 17          Automotive   8.367965e+09      97530   \n",
      "17    Evergreen Enterprises 18           Aerospace   9.383701e+09      30679   \n",
      "18               Alpha Corp 19          Automotive   7.211204e+09       8961   \n",
      "19      Tech Solutions Inc. 20  Telecommunications   7.211204e+09      25433   \n",
      "\n",
      "      City State  Founded Year  \n",
      "0    Dubai    JP        2018.0  \n",
      "1    Dubai    DE        1991.0  \n",
      "2    Tokyo    UK        1951.0  \n",
      "3   Sydney    UK        1951.0  \n",
      "4   Sydney    UK        1990.0  \n",
      "5    Paris    DE        1982.0  \n",
      "6   London    DE        1963.0  \n",
      "7   Mumbai    IN        1963.0  \n",
      "8   Berlin    IN        2008.0  \n",
      "9   Berlin    AU        2006.0  \n",
      "10   Tokyo    AE        1990.0  \n",
      "11  Berlin    FR        1990.0  \n",
      "12  Berlin    UK        2007.0  \n",
      "13   Paris    AE        2021.0  \n",
      "14  Sydney    AE        2019.0  \n",
      "15  Berlin    AU        2006.0  \n",
      "16  Mumbai    UK        2006.0  \n",
      "17   Paris    FR        1981.0  \n",
      "18  Sydney    DE        2010.0  \n",
      "19   Dubai    AU        1953.0  \n"
     ]
    }
   ],
   "source": [
    "#  to fill the above value of nan into nan\n",
    "\n",
    "print(data.ffill())"
   ]
  },
  {
   "cell_type": "code",
   "execution_count": 61,
   "id": "d58fdab6-8567-4683-a54d-4e7087e892a6",
   "metadata": {},
   "outputs": [
    {
     "name": "stdout",
     "output_type": "stream",
     "text": [
      "                  Company Name            Industry  Revenue (USD)  Employees  \\\n",
      "0      Evergreen Enterprises 1           Aerospace             hi      74965   \n",
      "1        Tech Solutions Inc. 2           Aerospace   8661979835.4      11234   \n",
      "2          Quantum Analytics 3           Aerospace  9970827093.17      25549   \n",
      "3            Dynamic Systems 4  Telecommunications  5834267201.15      90686   \n",
      "4            Dynamic Systems 5       Biotechnology             hi       4485   \n",
      "5            Dynamic Systems 6    Unknown Industry   5925562172.0      40712   \n",
      "6                 Alpha Corp 7    Unknown Industry  1514421475.94      31358   \n",
      "7            Dynamic Systems 8    Unknown Industry             hi      55684   \n",
      "8          Pinnacle Ventures 9    Unknown Industry  2149815958.65      35161   \n",
      "9     Evergreen Enterprises 10           Aerospace  5442955196.58      37731   \n",
      "10    Evergreen Enterprises 11          Automotive  3338996978.18      21086   \n",
      "11          Dynamic Systems 12       Biotechnology             hi      12477   \n",
      "12        Pinnacle Ventures 13    Unknown Industry  1510194433.17      66620   \n",
      "13        Pinnacle Ventures 14       Biotechnology   991944453.47      84290   \n",
      "14        Quantum Analytics 15           Aerospace  2398625735.17      91031   \n",
      "15  Global Innovations Ltd. 16           Aerospace             hi      30262   \n",
      "16  Global Innovations Ltd. 17          Automotive   8367965269.8      97530   \n",
      "17    Evergreen Enterprises 18           Aerospace  9383701164.59      30679   \n",
      "18               Alpha Corp 19          Automotive  7211204002.23       8961   \n",
      "19      Tech Solutions Inc. 20  Telecommunications             hi      25433   \n",
      "\n",
      "      City State Founded Year  \n",
      "0    Dubai    JP       2018.0  \n",
      "1    Dubai    DE       1991.0  \n",
      "2    Tokyo    UK       1951.0  \n",
      "3   Sydney    UK           hi  \n",
      "4       hi    UK       1990.0  \n",
      "5    Paris    DE       1982.0  \n",
      "6   London    DE       1963.0  \n",
      "7   Mumbai    IN           hi  \n",
      "8   Berlin    hi       2008.0  \n",
      "9       hi    AU       2006.0  \n",
      "10   Tokyo    AE       1990.0  \n",
      "11  Berlin    FR           hi  \n",
      "12      hi    UK       2007.0  \n",
      "13   Paris    AE       2021.0  \n",
      "14  Sydney    hi       2019.0  \n",
      "15  Berlin    AU       2006.0  \n",
      "16  Mumbai    UK           hi  \n",
      "17   Paris    FR       1981.0  \n",
      "18  Sydney    DE       2010.0  \n",
      "19   Dubai    AU       1953.0  \n"
     ]
    }
   ],
   "source": [
    "print(data.fillna(\"hi\"))"
   ]
  },
  {
   "cell_type": "code",
   "execution_count": 66,
   "id": "66ba5396-3df2-4cf4-84c6-ad859bb9160a",
   "metadata": {},
   "outputs": [
    {
     "name": "stdout",
     "output_type": "stream",
     "text": [
      "0     5.193033e+09\n",
      "1     8.661980e+09\n",
      "2     9.970827e+09\n",
      "3     5.834267e+09\n",
      "4     5.193033e+09\n",
      "5     5.925562e+09\n",
      "6     1.514421e+09\n",
      "7     5.193033e+09\n",
      "8     2.149816e+09\n",
      "9     5.442955e+09\n",
      "10    3.338997e+09\n",
      "11    5.193033e+09\n",
      "12    1.510194e+09\n",
      "13    9.919445e+08\n",
      "14    2.398626e+09\n",
      "15    5.193033e+09\n",
      "16    8.367965e+09\n",
      "17    9.383701e+09\n",
      "18    7.211204e+09\n",
      "19    5.193033e+09\n",
      "Name: Revenue (USD), dtype: float64\n"
     ]
    }
   ],
   "source": [
    "# in case of numeric value take the mean then fill it into the cells\n",
    "data[\"Revenue (USD)\"] = data[\"Revenue (USD)\"].replace(np.nan, data[\"Revenue (USD)\"].mean())\n",
    "print(data[\"Revenue (USD)\"])"
   ]
  },
  {
   "cell_type": "code",
   "execution_count": null,
   "id": "8b082eb9-6427-414d-bd2e-ae4b2cffdf13",
   "metadata": {},
   "outputs": [],
   "source": []
  }
 ],
 "metadata": {
  "kernelspec": {
   "display_name": "Python 3 (ipykernel)",
   "language": "python",
   "name": "python3"
  },
  "language_info": {
   "codemirror_mode": {
    "name": "ipython",
    "version": 3
   },
   "file_extension": ".py",
   "mimetype": "text/x-python",
   "name": "python",
   "nbconvert_exporter": "python",
   "pygments_lexer": "ipython3",
   "version": "3.13.3"
  }
 },
 "nbformat": 4,
 "nbformat_minor": 5
}
