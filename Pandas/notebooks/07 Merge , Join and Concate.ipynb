{
 "cells": [
  {
   "cell_type": "code",
   "execution_count": 8,
   "id": "58f0b05e-0cfe-4f74-9ace-2118df8c59ee",
   "metadata": {},
   "outputs": [
    {
     "name": "stdout",
     "output_type": "stream",
     "text": [
      "  Emp Id  Names  Age\n",
      "0    E01    Ram   23\n",
      "1    E02   Sham   22\n",
      "2    E03   Vasu   25\n",
      "3    E04  Ansar   23\n",
      "4    E05   Abhi   27\n",
      "5    E06  Anant   24\n"
     ]
    }
   ],
   "source": [
    "import pandas as pd\n",
    "\n",
    "data = {\"Emp Id\": [\"E01\",\"E02\",\"E03\",\"E04\",\"E05\",\"E06\"],\n",
    "       \"Names\": [\"Ram\", \"Sham\", \"Vasu\" , \"Ansar\" , \"Abhi\", \"Anant\"],\n",
    "       \"Age\" : [23,22,25,23,27,24]}\n",
    "\n",
    "data2 = {\"Emp Id\": [\"E01\",\"E02\",\"E09\",\"E04\",\"E07\",\"E06\"],\n",
    "         \"Salary\": [45000,55000,23000,54000,47000,55000]}\n",
    "\n",
    "\n",
    "df1 = pd.DataFrame(data)\n",
    "df2 = pd.DataFrame(data2)\n",
    "\n",
    "print(df1)"
   ]
  },
  {
   "cell_type": "code",
   "execution_count": 9,
   "id": "574cd49a-91d4-402f-aee2-a4a3126d1984",
   "metadata": {},
   "outputs": [
    {
     "name": "stdout",
     "output_type": "stream",
     "text": [
      "  Emp Id  Salary\n",
      "0    E01   45000\n",
      "1    E02   55000\n",
      "2    E09   23000\n",
      "3    E04   54000\n",
      "4    E07   47000\n",
      "5    E06   55000\n"
     ]
    }
   ],
   "source": [
    "print(df2)"
   ]
  },
  {
   "cell_type": "code",
   "execution_count": 11,
   "id": "341dc1a8-fe37-42e3-b546-5b89a8f87007",
   "metadata": {},
   "outputs": [
    {
     "name": "stdout",
     "output_type": "stream",
     "text": [
      "  Emp Id  Names  Age   Salary\n",
      "0    E01    Ram   23  45000.0\n",
      "1    E02   Sham   22  55000.0\n",
      "2    E03   Vasu   25      NaN\n",
      "3    E04  Ansar   23  54000.0\n",
      "4    E05   Abhi   27      NaN\n",
      "5    E06  Anant   24  55000.0\n"
     ]
    }
   ],
   "source": [
    "# Merge\n",
    "\n",
    "print(pd.merge(df1,df2,on =\"Emp Id\" , how = \"left\"))"
   ]
  },
  {
   "cell_type": "code",
   "execution_count": 12,
   "id": "d7e4822d-a039-4297-89c3-4079ee3597ff",
   "metadata": {},
   "outputs": [
    {
     "name": "stdout",
     "output_type": "stream",
     "text": [
      "  Emp Id  Names   Age  Salary\n",
      "0    E01    Ram  23.0   45000\n",
      "1    E02   Sham  22.0   55000\n",
      "2    E09    NaN   NaN   23000\n",
      "3    E04  Ansar  23.0   54000\n",
      "4    E07    NaN   NaN   47000\n",
      "5    E06  Anant  24.0   55000\n"
     ]
    }
   ],
   "source": [
    "print(pd.merge(df1,df2,on =\"Emp Id\" , how = \"right\"))"
   ]
  },
  {
   "cell_type": "code",
   "execution_count": 16,
   "id": "cd9f964a-e611-4c1c-badf-c155c50a275c",
   "metadata": {},
   "outputs": [],
   "source": [
    "data = {\"Emp Id\": [\"E01\",\"E02\",\"E03\",\"E04\",\"E05\",\"E06\"],\n",
    "       \"Names\": [\"Ram\", \"Sham\", \"Vasu\" , \"Ansar\" , \"Abhi\", \"Anant\"],\n",
    "       \"Age\" : [23,22,25,23,27,24]}\n",
    "\n",
    "data2 = {\"Emp Id\": [\"E08\",\"E09\",\"E10\",\"E11\",\"E12\",\"E13\"],\n",
    "       \"Names\": [\"Ramlal\", \"Shamveer\", \"Vasuraj\" , \"Ansa\" , \"Abhishek\", \"Anantam\"],\n",
    "       \"Age\" : [23,22,25,23,27,24]}\n",
    "\n",
    "df1 = pd.DataFrame(data)\n",
    "df2 = pd.DataFrame(data2)"
   ]
  },
  {
   "cell_type": "code",
   "execution_count": 17,
   "id": "9a6c896c-9c53-446b-903f-c0e218cee119",
   "metadata": {},
   "outputs": [
    {
     "name": "stdout",
     "output_type": "stream",
     "text": [
      "  Emp Id     Names  Age\n",
      "0    E01       Ram   23\n",
      "1    E02      Sham   22\n",
      "2    E03      Vasu   25\n",
      "3    E04     Ansar   23\n",
      "4    E05      Abhi   27\n",
      "5    E06     Anant   24\n",
      "0    E08    Ramlal   23\n",
      "1    E09  Shamveer   22\n",
      "2    E10   Vasuraj   25\n",
      "3    E11      Ansa   23\n",
      "4    E12  Abhishek   27\n",
      "5    E13   Anantam   24\n"
     ]
    }
   ],
   "source": [
    "print(pd.concat([df1,df2]))"
   ]
  }
 ],
 "metadata": {
  "kernelspec": {
   "display_name": "Python 3 (ipykernel)",
   "language": "python",
   "name": "python3"
  },
  "language_info": {
   "codemirror_mode": {
    "name": "ipython",
    "version": 3
   },
   "file_extension": ".py",
   "mimetype": "text/x-python",
   "name": "python",
   "nbconvert_exporter": "python",
   "pygments_lexer": "ipython3",
   "version": "3.13.5"
  }
 },
 "nbformat": 4,
 "nbformat_minor": 5
}
