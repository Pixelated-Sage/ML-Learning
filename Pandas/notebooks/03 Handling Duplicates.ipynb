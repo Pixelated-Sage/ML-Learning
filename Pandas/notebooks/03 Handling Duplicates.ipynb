{
 "cells": [
  {
   "cell_type": "code",
   "execution_count": 1,
   "id": "22ae8c6a-dc03-41b7-811a-66395a599826",
   "metadata": {},
   "outputs": [
    {
     "name": "stdout",
     "output_type": "stream",
     "text": [
      "              Company Name            Industry  Revenue (USD)  Employees  \\\n",
      "0    Tech Solutions Inc. 1           Logistics   7.012866e+09      63330   \n",
      "1      Pinnacle Ventures 2  Telecommunications   4.057722e+09      11865   \n",
      "2      Nexus Innovations 3           Logistics   3.508134e+09      24612   \n",
      "3             Alpha Corp 4         Hospitality   1.038657e+09      18700   \n",
      "4             Alpha Corp 5          Consulting   5.513866e+08      67206   \n",
      "..                     ...                 ...            ...        ...   \n",
      "95  Tech Solutions Inc. 96           Education   4.723566e+09      60766   \n",
      "96       Infinite Reach 97  Telecommunications   7.443903e+09      27429   \n",
      "97  Tech Solutions Inc. 98           Logistics   7.855107e+09      32061   \n",
      "98      Zenith Holdings 99              Retail   5.627981e+09      73008   \n",
      "99         Fusion Labs 100              Retail   2.567418e+09      42754   \n",
      "\n",
      "           City State  Founded Year  \n",
      "0        Denver    CA          1973  \n",
      "1        Denver    CA          1979  \n",
      "2        London    FL          1990  \n",
      "3   Los Angeles    FR          2018  \n",
      "4       Chicago    UK          2023  \n",
      "..          ...   ...           ...  \n",
      "95        Miami    GA          2008  \n",
      "96       Boston    UK          1950  \n",
      "97       Mumbai    FR          2010  \n",
      "98      Atlanta    FL          1952  \n",
      "99       Berlin    OR          1977  \n",
      "\n",
      "[100 rows x 7 columns]\n"
     ]
    }
   ],
   "source": [
    "import pandas as pd\n",
    "\n",
    "data = pd.read_excel(\"dummy_company_data.xlsx\")\n",
    "print(data)"
   ]
  },
  {
   "cell_type": "code",
   "execution_count": 11,
   "id": "152bd3f9-c4e9-4da0-a3d9-8b6de51236cf",
   "metadata": {},
   "outputs": [
    {
     "name": "stdout",
     "output_type": "stream",
     "text": [
      "0     False\n",
      "1     False\n",
      "2      True\n",
      "3     False\n",
      "4     False\n",
      "      ...  \n",
      "95     True\n",
      "96     True\n",
      "97     True\n",
      "98     True\n",
      "99     True\n",
      "Name: Industry, Length: 100, dtype: bool\n"
     ]
    }
   ],
   "source": [
    "print(data[\"Industry\"].duplicated())"
   ]
  },
  {
   "cell_type": "code",
   "execution_count": 13,
   "id": "804fd2a0-6419-4af1-b2f9-2fe0a6f83c87",
   "metadata": {},
   "outputs": [
    {
     "name": "stdout",
     "output_type": "stream",
     "text": [
      "86\n"
     ]
    }
   ],
   "source": [
    "print(data[\"Industry\"].duplicated().sum())"
   ]
  },
  {
   "cell_type": "code",
   "execution_count": 17,
   "id": "8b183465-15a8-4e7b-a685-6b1ec8a6ef30",
   "metadata": {},
   "outputs": [
    {
     "name": "stdout",
     "output_type": "stream",
     "text": [
      "                 Company Name            Industry  Revenue (USD)  Employees  \\\n",
      "0       Tech Solutions Inc. 1           Logistics   7.012866e+09      63330   \n",
      "1         Pinnacle Ventures 2  Telecommunications   4.057722e+09      11865   \n",
      "3                Alpha Corp 4         Hospitality   1.038657e+09      18700   \n",
      "4                Alpha Corp 5          Consulting   5.513866e+08      67206   \n",
      "6          BlueSky Software 7           Aerospace   4.865755e+09      63821   \n",
      "7   Global Innovations Ltd. 8          Automotive   8.850976e+09      19086   \n",
      "8            Visionary Tech 9              Retail   5.755476e+09      29576   \n",
      "10     Tech Solutions Inc. 11          Healthcare   9.227905e+08      35311   \n",
      "13          Harmony Health 14          Technology   5.248160e+09      81925   \n",
      "14   Evergreen Enterprises 15       Biotechnology   7.062190e+09      36323   \n",
      "15         Zenith Holdings 16       Manufacturing   1.952187e+09      76987   \n",
      "16   Precision Engineering 17           Education   6.175658e+09      27440   \n",
      "17         BrightSpark Co. 18              Energy   8.982146e+09       2338   \n",
      "20          Infinite Reach 21             Finance   3.678602e+09      19356   \n",
      "\n",
      "           City State  Founded Year  \n",
      "0        Denver    CA          1973  \n",
      "1        Denver    CA          1979  \n",
      "3   Los Angeles    FR          2018  \n",
      "4       Chicago    UK          2023  \n",
      "6       Seattle    CA          2009  \n",
      "7        Austin    AE          2012  \n",
      "8        Dallas    WA          1957  \n",
      "10     New York    MA          2009  \n",
      "13       Sydney    NY          2005  \n",
      "14       Dallas    DE          1987  \n",
      "15     New York    UK          1955  \n",
      "16        Miami    JP          1966  \n",
      "17       Berlin    CO          1976  \n",
      "20  Los Angeles    WA          1960  \n"
     ]
    }
   ],
   "source": [
    "# To delete the duplicate rows in the column\n",
    "\n",
    "print(data.drop_duplicates(\"Industry\"))  # drop anything yet is not good as at some point we have to fill so ,  data needs more cleaning"
   ]
  }
 ],
 "metadata": {
  "kernelspec": {
   "display_name": "Python 3 (ipykernel)",
   "language": "python",
   "name": "python3"
  },
  "language_info": {
   "codemirror_mode": {
    "name": "ipython",
    "version": 3
   },
   "file_extension": ".py",
   "mimetype": "text/x-python",
   "name": "python",
   "nbconvert_exporter": "python",
   "pygments_lexer": "ipython3",
   "version": "3.13.5"
  }
 },
 "nbformat": 4,
 "nbformat_minor": 5
}
