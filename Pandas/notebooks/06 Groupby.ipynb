{
 "cells": [
  {
   "cell_type": "code",
   "execution_count": 14,
   "id": "8ffb4ff8-c936-4d0f-9986-b56998ee0fbf",
   "metadata": {},
   "outputs": [
    {
     "name": "stdout",
     "output_type": "stream",
     "text": [
      "                 Company Name            Industry  Revenue (USD)  Employees  \\\n",
      "0               Fusion Labs 1  Telecommunications   4.412037e+09      31818   \n",
      "1        GoldLeaf Financial 2           Logistics   5.654898e+09      24981   \n",
      "2            Harmony Health 3  Telecommunications   3.463993e+07      53618   \n",
      "3      Streamline Logistics 4          Healthcare   3.158112e+09      48705   \n",
      "4           Dynamic Systems 5           Logistics   9.901479e+09      47564   \n",
      "..                        ...                 ...            ...        ...   \n",
      "95          Infinite Reach 96         Hospitality   9.913543e+09       2923   \n",
      "96          Harmony Health 97           Education   6.784546e+09      39799   \n",
      "97       Nexus Innovations 98           Logistics   6.806026e+09      64756   \n",
      "98   Evergreen Enterprises 99           Logistics   6.001910e+09      97623   \n",
      "99  Evergreen Enterprises 100              Energy   2.558216e+09       2511   \n",
      "\n",
      "             City State  Founded Year  \n",
      "0         Chicago    TX          1999  \n",
      "1          Mumbai    AU          1974  \n",
      "2        New York    NY          1962  \n",
      "3         Atlanta    TX          1986  \n",
      "4         Seattle    MA          2022  \n",
      "..            ...   ...           ...  \n",
      "95          Miami    FR          2009  \n",
      "96          Dubai    TX          1980  \n",
      "97        Seattle    TX          2013  \n",
      "98  San Francisco    MA          1958  \n",
      "99        Atlanta    AE          1991  \n",
      "\n",
      "[100 rows x 7 columns]\n"
     ]
    }
   ],
   "source": [
    "import pandas as pd\n",
    "\n",
    "data = pd.read_csv(\"dummy_company_data.csv\")\n",
    "print(data)\n"
   ]
  },
  {
   "cell_type": "code",
   "execution_count": 19,
   "id": "9c820a13-725d-4afe-bae7-efa92c737cc0",
   "metadata": {},
   "outputs": [
    {
     "name": "stdout",
     "output_type": "stream",
     "text": [
      "                    Employees\n",
      "Industry                     \n",
      "Aerospace                   3\n",
      "Automotive                  3\n",
      "Biotechnology               7\n",
      "Consulting                  8\n",
      "Education                   8\n",
      "Energy                      5\n",
      "Finance                     7\n",
      "Healthcare                 10\n",
      "Hospitality                11\n",
      "Logistics                  10\n",
      "Manufacturing               7\n",
      "Retail                      9\n",
      "Technology                  6\n",
      "Telecommunications          6\n"
     ]
    }
   ],
   "source": [
    "gp = data.groupby([\"Industry\"]).agg({\"Employees\":\"count\"})\n",
    "print(gp)"
   ]
  },
  {
   "cell_type": "code",
   "execution_count": 22,
   "id": "d2af0c62-4fa0-4d6b-b56d-a7c7e980d939",
   "metadata": {},
   "outputs": [
    {
     "name": "stdout",
     "output_type": "stream",
     "text": [
      "                       Employees\n",
      "City    Revenue (USD)           \n",
      "Atlanta 4.850150e+08     68195.0\n",
      "        1.082262e+09       840.0\n",
      "        2.558216e+09      2511.0\n",
      "        3.158112e+09     48705.0\n",
      "        4.577191e+09     59131.0\n",
      "...                          ...\n",
      "Tokyo   1.745459e+08     17226.0\n",
      "        3.656932e+09     45588.0\n",
      "        6.222195e+09     70231.0\n",
      "        6.786427e+09     58996.0\n",
      "        9.119617e+09     54197.0\n",
      "\n",
      "[100 rows x 1 columns]\n"
     ]
    }
   ],
   "source": [
    "gp1 = data.groupby([\"City\",\"Revenue (USD)\"]).agg({\"Employees\":\"mean\"})\n",
    "print(gp1)"
   ]
  }
 ],
 "metadata": {
  "kernelspec": {
   "display_name": "Python 3 (ipykernel)",
   "language": "python",
   "name": "python3"
  },
  "language_info": {
   "codemirror_mode": {
    "name": "ipython",
    "version": 3
   },
   "file_extension": ".py",
   "mimetype": "text/x-python",
   "name": "python",
   "nbconvert_exporter": "python",
   "pygments_lexer": "ipython3",
   "version": "3.13.3"
  }
 },
 "nbformat": 4,
 "nbformat_minor": 5
}
