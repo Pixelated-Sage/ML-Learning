{
 "cells": [
  {
   "cell_type": "code",
   "execution_count": 1,
   "id": "589737bc-da4d-43b3-ad48-dca581abf465",
   "metadata": {},
   "outputs": [],
   "source": [
    "# Pandas\n",
    "\n",
    "# pip install pandas\n",
    "\n",
    "import pandas as pd"
   ]
  },
  {
   "cell_type": "code",
   "execution_count": 2,
   "id": "6621fc22-0a01-408e-8a23-c23500dc3b25",
   "metadata": {},
   "outputs": [
    {
     "name": "stdout",
     "output_type": "stream",
     "text": [
      "    Name  Age  Salary\n",
      "0   john   25  300000\n",
      "1  Peter   28   45000\n",
      "2   Lisa   31   25000\n"
     ]
    }
   ],
   "source": [
    "data = {\"Name\":[\"john\",\"Peter\",\"Lisa\"],\n",
    "        \"Age\":[25,28,31],\n",
    "        \"Salary\":[300000, 45000, 25000]\n",
    "       }\n",
    "df = pd.DataFrame(data)\n",
    "print(df)"
   ]
  },
  {
   "cell_type": "code",
   "execution_count": 3,
   "id": "a6018200-5c5f-4db4-956e-3c05043ef3a0",
   "metadata": {},
   "outputs": [
    {
     "name": "stdout",
     "output_type": "stream",
     "text": [
      "                 Company Name            Industry  Revenue (USD)  Employees  \\\n",
      "0               Fusion Labs 1  Telecommunications   4.412037e+09      31818   \n",
      "1        GoldLeaf Financial 2           Logistics   5.654898e+09      24981   \n",
      "2            Harmony Health 3  Telecommunications   3.463993e+07      53618   \n",
      "3      Streamline Logistics 4          Healthcare   3.158112e+09      48705   \n",
      "4           Dynamic Systems 5           Logistics   9.901479e+09      47564   \n",
      "..                        ...                 ...            ...        ...   \n",
      "95          Infinite Reach 96         Hospitality   9.913543e+09       2923   \n",
      "96          Harmony Health 97           Education   6.784546e+09      39799   \n",
      "97       Nexus Innovations 98           Logistics   6.806026e+09      64756   \n",
      "98   Evergreen Enterprises 99           Logistics   6.001910e+09      97623   \n",
      "99  Evergreen Enterprises 100              Energy   2.558216e+09       2511   \n",
      "\n",
      "             City State  Founded Year  \n",
      "0         Chicago    TX          1999  \n",
      "1          Mumbai    AU          1974  \n",
      "2        New York    NY          1962  \n",
      "3         Atlanta    TX          1986  \n",
      "4         Seattle    MA          2022  \n",
      "..            ...   ...           ...  \n",
      "95          Miami    FR          2009  \n",
      "96          Dubai    TX          1980  \n",
      "97        Seattle    TX          2013  \n",
      "98  San Francisco    MA          1958  \n",
      "99        Atlanta    AE          1991  \n",
      "\n",
      "[100 rows x 7 columns]\n"
     ]
    }
   ],
   "source": [
    "# Read a csv file\n",
    "data = pd.read_csv(\"dummy_company_data.csv\")\n",
    "print(data)\n"
   ]
  },
  {
   "cell_type": "code",
   "execution_count": 4,
   "id": "56723eaa-bb2d-49d5-9044-b3d020d4c516",
   "metadata": {},
   "outputs": [
    {
     "name": "stdout",
     "output_type": "stream",
     "text": [
      "              Company Name            Industry  Revenue (USD)  Employees  \\\n",
      "0    Tech Solutions Inc. 1           Logistics   7.012866e+09      63330   \n",
      "1      Pinnacle Ventures 2  Telecommunications   4.057722e+09      11865   \n",
      "2      Nexus Innovations 3           Logistics   3.508134e+09      24612   \n",
      "3             Alpha Corp 4         Hospitality   1.038657e+09      18700   \n",
      "4             Alpha Corp 5          Consulting   5.513866e+08      67206   \n",
      "..                     ...                 ...            ...        ...   \n",
      "95  Tech Solutions Inc. 96           Education   4.723566e+09      60766   \n",
      "96       Infinite Reach 97  Telecommunications   7.443903e+09      27429   \n",
      "97  Tech Solutions Inc. 98           Logistics   7.855107e+09      32061   \n",
      "98      Zenith Holdings 99              Retail   5.627981e+09      73008   \n",
      "99         Fusion Labs 100              Retail   2.567418e+09      42754   \n",
      "\n",
      "           City State  Founded Year  \n",
      "0        Denver    CA          1973  \n",
      "1        Denver    CA          1979  \n",
      "2        London    FL          1990  \n",
      "3   Los Angeles    FR          2018  \n",
      "4       Chicago    UK          2023  \n",
      "..          ...   ...           ...  \n",
      "95        Miami    GA          2008  \n",
      "96       Boston    UK          1950  \n",
      "97       Mumbai    FR          2010  \n",
      "98      Atlanta    FL          1952  \n",
      "99       Berlin    OR          1977  \n",
      "\n",
      "[100 rows x 7 columns]\n"
     ]
    }
   ],
   "source": [
    "# to open excel file in pandas ( pip install openpxyl )\n",
    "\n",
    "data = pd.read_excel(\"dummy_company_data.xlsx\")\n",
    "print(data)"
   ]
  }
 ],
 "metadata": {
  "kernelspec": {
   "display_name": "Python 3 (ipykernel)",
   "language": "python",
   "name": "python3"
  },
  "language_info": {
   "codemirror_mode": {
    "name": "ipython",
    "version": 3
   },
   "file_extension": ".py",
   "mimetype": "text/x-python",
   "name": "python",
   "nbconvert_exporter": "python",
   "pygments_lexer": "ipython3",
   "version": "3.13.3"
  }
 },
 "nbformat": 4,
 "nbformat_minor": 5
}
