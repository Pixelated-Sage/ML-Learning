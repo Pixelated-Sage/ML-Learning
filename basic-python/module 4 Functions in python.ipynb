{
 "cells": [
  {
   "cell_type": "markdown",
   "metadata": {},
   "source": [
    "Module 4 : Functions in Python\n",
    "\n",
    "Functions :Reusable block of code. Extremely important for organizing your code, making it modular,\n",
    "and avoiding repetition. In data science, you'll create functions for data preprocessing, modek training, evaluation, etc."
   ]
  },
  {
   "cell_type": "code",
   "execution_count": 2,
   "metadata": {},
   "outputs": [
    {
     "name": "stdout",
     "output_type": "stream",
     "text": [
      "Hello , Alice\n"
     ]
    }
   ],
   "source": [
    "def greet(name):\n",
    "    \"\"\"this function greets the person passes in as a parameter.\"\"\"\n",
    "    print(f\"Hello , {name}\")\n",
    "\n",
    "greet(\"Alice\")"
   ]
  },
  {
   "cell_type": "code",
   "execution_count": 4,
   "metadata": {},
   "outputs": [
    {
     "name": "stdout",
     "output_type": "stream",
     "text": [
      "The mean is : 3.67\n"
     ]
    }
   ],
   "source": [
    "def Calulate_mean(data):\n",
    "    \"\"\"Claculate the mean of a list of numbers\"\"\"\n",
    "    total = sum(data)\n",
    "    mean = total / len(data)\n",
    "    return mean\n",
    "\n",
    "data = [ 2,3,6,6,3,2]\n",
    "mean_value = Calulate_mean(data)\n",
    "print(f\"The mean is : {mean_value:.2f}\")"
   ]
  }
 ],
 "metadata": {
  "kernelspec": {
   "display_name": "Python 3",
   "language": "python",
   "name": "python3"
  },
  "language_info": {
   "codemirror_mode": {
    "name": "ipython",
    "version": 3
   },
   "file_extension": ".py",
   "mimetype": "text/x-python",
   "name": "python",
   "nbconvert_exporter": "python",
   "pygments_lexer": "ipython3",
   "version": "3.12.4"
  }
 },
 "nbformat": 4,
 "nbformat_minor": 2
}
