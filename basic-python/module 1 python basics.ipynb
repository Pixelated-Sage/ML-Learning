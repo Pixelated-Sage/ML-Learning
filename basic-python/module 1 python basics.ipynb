{
 "cells": [
  {
   "cell_type": "markdown",
   "metadata": {},
   "source": [
    "Module : 1 \n",
    "Python basics\n",
    "\n",
    "\n",
    "Python Introduction: Python is a high-level,interpreted,general-purpose programming language. its readabilit and extensive libraries make it ideal for AI/ML."
   ]
  },
  {
   "cell_type": "markdown",
   "metadata": {},
   "source": [
    "Print(): used to display output to the console. Crucial for debugging and displaying results in data analysis."
   ]
  },
  {
   "cell_type": "code",
   "execution_count": 1,
   "metadata": {},
   "outputs": [
    {
     "name": "stdout",
     "output_type": "stream",
     "text": [
      "hello , coder\n"
     ]
    }
   ],
   "source": [
    "print(\"hello , coder\")"
   ]
  },
  {
   "cell_type": "markdown",
   "metadata": {},
   "source": [
    "Variables : used to store data. In data science, you'll store datasets, model parameters, etc.., in variables."
   ]
  },
  {
   "cell_type": "code",
   "execution_count": 1,
   "metadata": {},
   "outputs": [],
   "source": [
    "dataset_name = \"abhishek\"\n",
    "learning_rate = 0.01"
   ]
  },
  {
   "cell_type": "markdown",
   "metadata": {},
   "source": [
    "Input() : used to get input. Less common in core AI/ML but can be used for intercative sctipts."
   ]
  },
  {
   "cell_type": "code",
   "execution_count": null,
   "metadata": {},
   "outputs": [],
   "source": [
    "user_name = input(\"Enter your name: \")"
   ]
  },
  {
   "cell_type": "markdown",
   "metadata": {},
   "source": [
    "Arithmetic Operators : + , - , * , / , // (floor division), % (modulo) , ** (exponentiation).\n",
    "essential for numerical computations in data analysis and model training.\n",
    "\n",
    "Type() : Returns the data type of a variable. Important for understanding how data is stored and for type conversions."
   ]
  },
  {
   "cell_type": "code",
   "execution_count": null,
   "metadata": {},
   "outputs": [],
   "source": [
    "x = 10\n",
    "print(type(x))"
   ]
  },
  {
   "cell_type": "markdown",
   "metadata": {},
   "source": [
    "Type conversion : Converting data fromm one type to another (eg,. int() to convert to integer , float() to float , str() to string ). Important for data preprocessing."
   ]
  },
  {
   "cell_type": "code",
   "execution_count": null,
   "metadata": {},
   "outputs": [],
   "source": [
    "age_str = \"25\"\n",
    "age = int(age_str)"
   ]
  },
  {
   "cell_type": "markdown",
   "metadata": {},
   "source": [
    "Comments : used to explain code. Vital for maintainability, especiallu in complex data science projects."
   ]
  },
  {
   "cell_type": "code",
   "execution_count": null,
   "metadata": {},
   "outputs": [],
   "source": [
    "\"\"\"\n",
    "This is a multi-line comment.\n",
    "It's useful for longer explanations.  \n",
    "\"\"\""
   ]
  },
  {
   "cell_type": "markdown",
   "metadata": {},
   "source": [
    "if , else , elif : used for conditional execution. important for controlling the flow of your data processing and model logic."
   ]
  },
  {
   "cell_type": "code",
   "execution_count": null,
   "metadata": {},
   "outputs": [],
   "source": [
    "temperature = 25\n",
    "\n",
    "if temperature > 30:\n",
    "    print(\"It's hot!\")\n",
    "elif temperature >20:\n",
    "    print(\"It's pleasant\")\n",
    "else:\n",
    "    print(\"It's Cool.\")"
   ]
  },
  {
   "cell_type": "markdown",
   "metadata": {},
   "source": [
    "Project Calculator"
   ]
  },
  {
   "cell_type": "code",
   "execution_count": 1,
   "metadata": {},
   "outputs": [
    {
     "name": "stdout",
     "output_type": "stream",
     "text": [
      "9\n"
     ]
    }
   ],
   "source": [
    "value_1 = int(input(\"Enter input first : \"))\n",
    "value_2 = int(input(\"Enter Input Second : \"))\n",
    "operator = input(\"Enter operation you want to perform : \")\n",
    "\n",
    "if operator == \"+\":\n",
    "    print(value_1 + value_2)\n",
    "elif operator == \"-\":\n",
    "    print(value_1 - value_2)\n",
    "elif operator == \"*\":\n",
    "    print(value_1 * value_2)\n",
    "elif operator == \"/\":\n",
    "    print(value_1 / value_2)\n",
    "elif operator == \"%\":\n",
    "    print(value_1 % value_2)"
   ]
  }
 ],
 "metadata": {
  "kernelspec": {
   "display_name": "Python 3",
   "language": "python",
   "name": "python3"
  },
  "language_info": {
   "codemirror_mode": {
    "name": "ipython",
    "version": 3
   },
   "file_extension": ".py",
   "mimetype": "text/x-python",
   "name": "python",
   "nbconvert_exporter": "python",
   "pygments_lexer": "ipython3",
   "version": "3.12.4"
  }
 },
 "nbformat": 4,
 "nbformat_minor": 2
}
