{
 "cells": [
  {
   "cell_type": "markdown",
   "metadata": {},
   "source": [
    "**Module 5 : Strings in Python**\n",
    "\n",
    "Strings: Sequences of characters. Essential for handling Text data, Which is many AI/ML applications (eg.,Natural language Processing).\n",
    "\n",
    "- Escape Sequence & Raw Strings : Escape Sequence(\\n for new line, \\t for tab, etc.) allow you to represent special characters. \n",
    "    - Raw Strings (prefixd with r) treat backslahes literally, useful for regular expressions and file paths.\n",
    "\n",
    "- String Operations : Concatenation (+), repetition (*), slicing( [start:end:jump]), indexing( [index]), sting methods (.upper() , .lower() , .strip() , .replace() , etc.).\n",
    "Crucial for text preprocessing in NLP.\n",
    "\n",
    "- String Comparison : Using ==, != , < , > , <= , >= to compare strings.\n",
    "\n",
    "- pattern searching : Using regular expressions (the re module) for more complex pattern matching.\n",
    "Important for data cleaning and extraction from text."
   ]
  },
  {
   "cell_type": "code",
   "execution_count": 1,
   "metadata": {},
   "outputs": [
    {
     "name": "stdout",
     "output_type": "stream",
     "text": [
      "['this', 'is', 'a', 'sentence.']\n"
     ]
    }
   ],
   "source": [
    "text = \"this is a sentence.\"\n",
    "\n",
    "print(text.split())"
   ]
  },
  {
   "cell_type": "code",
   "execution_count": 2,
   "metadata": {},
   "outputs": [
    {
     "name": "stdout",
     "output_type": "stream",
     "text": [
      "['123', '45']\n"
     ]
    }
   ],
   "source": [
    "import re\n",
    "pattern = r\"[0-9]+\"\n",
    "text = \"there are 123 apples and 45 oranges.\"\n",
    "matches = re.findall(pattern,text)\n",
    "print(matches)"
   ]
  },
  {
   "cell_type": "markdown",
   "metadata": {},
   "source": [
    "**Re module**\n",
    "\n",
    "regular expression are powerful tools for degining search patterns in text. the re module in python provides functions to work with these patterns.\n",
    "\n",
    "Key Functions\n",
    "- re.search(pattern, string) : Search for the first occurance of the pattern within the string. returns a match object if found, otherwise None.\n",
    "\n",
    "- re.findall(pattern, string) : Finnds all non-overlapping occurences of the pattern in the string and return them as a list of string.\n",
    "\n",
    "- re.match(pattern, string): Checks if the pattern matches at the beginning of the string. Returns a match object if found, otherwise None.\n",
    "\n",
    "- re.split(pattern , string): Splits the string at each occurrence of the pattern and returns a list od substrings.\n",
    "\n",
    "- re.sub(pattern, replacement, string): Replace all occurance of the pattern in the string with the replacement.\n",
    "\n",
    "-  re.compile(pattern): Compiles the pattern into a regular expression object, which can be used for multiple seaches, immproving efficiency."
   ]
  },
  {
   "cell_type": "markdown",
   "metadata": {},
   "source": [
    "**Regular Expression Syntax (Important Metacharacters):**\n",
    "\n",
    "- . (dot): Matches any Character except a newline.\n",
    "- ^ (caret): Matches the beginning of the string.\n",
    "- $ (dollar): Matches the end of the string.\n",
    "- '*' (asterisk): Matches zero or more occurance of the preceding character.\n",
    "- '+' (plus): Matches one or more occurance of the preceding character.\n",
    "- ? (question mark): Matches zero or one occurrence of the preceding character.\n",
    "- {m} : Matches exactly m occurrences.\n",
    "- {m,n} : Matches between m and n occurrences.\n",
    "- [] (square brackets): Matches any character within the brackets.\n",
    "    - [abc]: Matches a, b, or c.\n",
    "    - [a-z]: Matches any lowercase letter.\n",
    "    - [0-9]: Matches any digit.\n",
    "    - [^abc]:Matches any character not in a, b, or c.\n",
    "- () (parentheses): Groups characters together and creates capturing groups.\n",
    "- | (pipe): Acts as an \"or\" operator.\n",
    "- \\ (backslash): Escapes special characters or introduces special sequences.\n",
    "    - \\d : Matches any digit.\n",
    "    - \\D : Matches any non-digit.\n",
    "    - \\s : Matches any whitespace charcater.\n",
    "    - \\S : Matches any non-whitespace character.\n",
    "    - \\w : Matches any word character(alphanumeric and underscore).\n",
    "    - \\W : Matches any non-word character. "
   ]
  },
  {
   "cell_type": "code",
   "execution_count": 67,
   "metadata": {},
   "outputs": [
    {
     "name": "stdout",
     "output_type": "stream",
     "text": [
      "Found a number:  123\n",
      "Found emails :  ['user@example.com', 'abhishek@gmail.com']\n",
      "String starts with 'this' \n",
      "Split Text : ['this is some text play with', 'It has number ', '123', ' and email ', 'user', 'example', 'com', ' abhishek', 'gmail', 'com ', ' There are also some special characters like ', '']\n",
      "Sanitized Text :  this is some text play with.It has number (123) and email (user@example.com) abhishek@gmail.com . There are also some special characters like Sanitized\n",
      "More number matches:  ['456', '789']\n"
     ]
    }
   ],
   "source": [
    "import re\n",
    "\n",
    "text = \"this is some text play with.It has number (123) and email (user@example.com) abhishek@gmail.com . There are also some special characters like $%^&*\"\n",
    "\n",
    "# re.search()\n",
    "\n",
    "pattern = r\"\\d+\"\n",
    "match = re.search(pattern,text)\n",
    "if match:\n",
    "    print(\"Found a number: \" , match.group())\n",
    "else:\n",
    "    print(\"No Number Found\")\n",
    "\n",
    "# re.findall()\n",
    "\n",
    "pattern = r\"\\w+@\\w+\\.\\w+\"\n",
    "emails = re.findall(pattern,text)\n",
    "if emails:\n",
    "    print(\"Found emails : \", emails)\n",
    "else:\n",
    "    print(\"No emails found\")\n",
    "\n",
    "# re.match()\n",
    "\n",
    "pattern = r\"this\"\n",
    "match = re.match(pattern,text)\n",
    "if match:\n",
    "    print(\"String starts with 'this' \")\n",
    "else:\n",
    "    print(\"String doesn't Start with 'this' \")\n",
    "\n",
    "# re.split()\n",
    "pattern = r\"[^\\w\\s]+\"\n",
    "split_text = re.split(pattern,text)\n",
    "print(f\"Split Text : {split_text}\")\n",
    "\n",
    "# re.sub()\n",
    "\n",
    "pattern = r\"\\$\\%\\^\\&\\*\"\n",
    "replacement = \"Sanitized\"\n",
    "new_text = re.sub(pattern, replacement,text)\n",
    "print(\"Sanitized Text : \", new_text)\n",
    "\n",
    "# re.compile()\n",
    "\n",
    "compiled_pattern = re.compile(r\"\\d+\")\n",
    "more_matches = compiled_pattern.findall(\"Another text with 456 and 789\")\n",
    "print(\"More number matches: \", more_matches)"
   ]
  },
  {
   "cell_type": "markdown",
   "metadata": {},
   "source": [
    "Text Analyzer: \n",
    "Create a program that analyzes a given text (e.g., Counts words, finds the most frequent word, performs sentiment analysis). this project combines functions, strings, and potentially regular expressions."
   ]
  },
  {
   "cell_type": "code",
   "execution_count": 18,
   "metadata": {},
   "outputs": [
    {
     "name": "stdout",
     "output_type": "stream",
     "text": [
      "['124', '457', '1', '2', '3', '56', '43']\n",
      "Number of alpabets in Text :  175\n",
      "Number of Words in text is : 32\n",
      "('and', 3)\n",
      "['love']\n"
     ]
    }
   ],
   "source": [
    "import re\n",
    "text = \"this is a sample text to play around, containing 124 and 457 also having some emails example1@gmail.com , example2@gmai.com and example3@gmail.com. Some more numbers 56 and 43\"\n",
    "\n",
    "text2 = \"abhi \"\n",
    "# Count all the numbers\n",
    "pattern = r\"\\d+\"\n",
    "matches = re.findall(pattern, text)\n",
    "print(matches)\n",
    "\n",
    "# count all the words or letters\n",
    "\n",
    "print(\"Number of alpabets in Text : \",len(text)) #counting alpabates\n",
    "\n",
    "pattern = r\"\\w+\" \n",
    "matches = re.findall(pattern, text)\n",
    "print(f\"Number of Words in text is : {len(matches)}\") # counting the words\n",
    "\n",
    "# find the most frequent word\n",
    "\n",
    "from collections import Counter\n",
    "\n",
    "words = re.findall(r\"\\b\\w+\\b\", text.lower())\n",
    "\n",
    "word_counts = Counter(words)\n",
    "most_common = word_counts.most_common(1)\n",
    "\n",
    "print(most_common[0])\n",
    "\n",
    "text2 = \"i love happy it\"\n",
    "\n",
    "pattern = r\"\\blove\"\n",
    "matches = re.findall(pattern,text2)\n",
    "print(matches)"
   ]
  }
 ],
 "metadata": {
  "kernelspec": {
   "display_name": "Python 3",
   "language": "python",
   "name": "python3"
  },
  "language_info": {
   "codemirror_mode": {
    "name": "ipython",
    "version": 3
   },
   "file_extension": ".py",
   "mimetype": "text/x-python",
   "name": "python",
   "nbconvert_exporter": "python",
   "pygments_lexer": "ipython3",
   "version": "3.12.4"
  }
 },
 "nbformat": 4,
 "nbformat_minor": 2
}
