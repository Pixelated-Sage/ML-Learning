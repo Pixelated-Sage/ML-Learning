{
 "cells": [
  {
   "cell_type": "markdown",
   "metadata": {},
   "source": [
    "**Module 6 : Data Structures**\n",
    "\n",
    "- List Introduction : Ordered, Mutable sequences. Very versatile and commonly used in data science.\n",
    "- Tuples : Orderd, immutable sequences. Useful for representing fixed colections of data.\n",
    "- Set : Unordered collections of unique elements. Useful for removing duplicates and perform set operations.\n",
    "- Dictionary : Key-value paris. Essential for storing and retrieving data efficiently.\n",
    "- Slicing (List, Tuple, and String) : Extracting portions of sequences.\n",
    "- Comprehensions : Concise way to create list, sets, and dictionaries."
   ]
  },
  {
   "cell_type": "code",
   "execution_count": 6,
   "metadata": {},
   "outputs": [
    {
     "name": "stdout",
     "output_type": "stream",
     "text": [
      "{1, 2, 3, 4, 5, 6}\n",
      "Abhishek\n",
      "[0, 1, 4, 9, 16, 25, 36, 49, 64, 81]\n"
     ]
    }
   ],
   "source": [
    "my_list = [1,2,3,3,4,5,3,6]\n",
    "my_set = set(my_list) #Removing Duplication\n",
    "print(my_set)\n",
    "\n",
    "my_dict = {\"name\" : \"Abhishek\", \"age\": 20}\n",
    "print(my_dict[\"name\"])\n",
    "\n",
    "square = [x**2 for x in range(10)] #List comprehension\n",
    "print(square)"
   ]
  }
 ],
 "metadata": {
  "kernelspec": {
   "display_name": "Python 3",
   "language": "python",
   "name": "python3"
  },
  "language_info": {
   "codemirror_mode": {
    "name": "ipython",
    "version": 3
   },
   "file_extension": ".py",
   "mimetype": "text/x-python",
   "name": "python",
   "nbconvert_exporter": "python",
   "pygments_lexer": "ipython3",
   "version": "3.12.4"
  }
 },
 "nbformat": 4,
 "nbformat_minor": 2
}
