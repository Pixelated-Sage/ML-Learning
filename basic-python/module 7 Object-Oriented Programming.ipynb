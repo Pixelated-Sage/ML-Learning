{
 "cells": [
  {
   "cell_type": "markdown",
   "metadata": {},
   "source": [
    "**Module 7 : Object Oriented Progamming (OOP)**\n",
    "\n",
    "- Introduction to OOPs : A programming paradigm bases on \"object\" , which can contain data and code.\n",
    "- Classes and Objects : A class is a blueprint for creating objects. An object is an instance of a class.\n",
    "- Encapsulation : Bundling data and methods that operateon that data within a class.\n",
    "- Decorators : Modify the behavior of functions or methods.\n",
    "- Class methods and Static Members : Methods that are bound to the class rather than the instance.\n",
    "- Inheritance : Creating new classes based on existing ones.\n",
    "- Types of Inheritance : Single, multiple, multilevel,etc.\n",
    "- Polymorphism : The ability of objects of different classes to respond to the same method call in their own specific ways.\n",
    "- Abstraction : Hiding complex implementation details and exposing omlu essential information.\n",
    "- Operator Overloading : Defining how operators (e.g., + , - , * ) behave with objects of your classes.\n",
    "- Abstract class : A class that cannot be instantiated directly and serves as a blueprint for other classes.\n",
    "\n",
    "OOP is important for structuring larger data science projects and for working with some ML libraries that are designed with OOP principles."
   ]
  },
  {
   "cell_type": "markdown",
   "metadata": {},
   "source": [
    "**Classes and Objects**"
   ]
  },
  {
   "cell_type": "code",
   "execution_count": null,
   "metadata": {},
   "outputs": [],
   "source": [
    "class dog:  #class definition\n",
    "    def __init__(self,name,bread):  #Constructor (initializer)\n",
    "        self.name = name\n",
    "        self.bread = bread\n",
    "\n",
    "    def bark(self):     #Method\n",
    "        print(\"Woof!\") \n",
    "\n",
    "my_dog = dog(\"Woffer\", \"german\")\n",
    "print(my_dog.name)\n",
    "my_dog.bark()"
   ]
  },
  {
   "cell_type": "markdown",
   "metadata": {},
   "source": [
    "**Encapsulation**"
   ]
  },
  {
   "cell_type": "code",
   "execution_count": null,
   "metadata": {},
   "outputs": [],
   "source": [
    "class BankAccount:\n",
    "    def __init__(self,balance):\n",
    "        self.__balance = balance     #Private attribute (using word mangling)\n",
    "\n",
    "    def deposit(self,amount):\n",
    "        if amount>0:\n",
    "            self.__balance += amount\n",
    "    \n",
    "    def get_balance(self):\n",
    "        return self.__balance\n",
    "\n",
    "account = BankAccount(1000)\n",
    "print(\"Balance before adding 500 : \",account.get_balance())     #Accesing the balance throught a method\n",
    "account.deposit(500)\n",
    "print(\"Balance after adding 500 : \",account.get_balance())"
   ]
  },
  {
   "cell_type": "markdown",
   "metadata": {},
   "source": [
    "**Decorators**\n"
   ]
  },
  {
   "cell_type": "code",
   "execution_count": null,
   "metadata": {},
   "outputs": [],
   "source": [
    "def my_decorator(func):\n",
    "    def wrapper():\n",
    "        print(\"Before the function is called.\")\n",
    "        func()\n",
    "        print(\"After the function is called.\")\n",
    "    return wrapper\n",
    "\n",
    "@my_decorator   #Applying the decorator\n",
    "def say_hello():\n",
    "    print(\"Hello\")\n",
    "\n",
    "\n",
    "@my_decorator   #Applying the decorator\n",
    "def say_bye():\n",
    "    print(\"Bye\")\n",
    "\n",
    "say_hello()\n",
    "say_bye()"
   ]
  },
  {
   "cell_type": "markdown",
   "metadata": {},
   "source": [
    "**Class Methods and Static Methods**"
   ]
  },
  {
   "cell_type": "code",
   "execution_count": null,
   "metadata": {},
   "outputs": [],
   "source": [
    "class MathUtils:\n",
    "    class_variable = \"This is a class Variable\"\n",
    "    class_variable2 = \"This is a second class variable\"\n",
    "\n",
    "    def __init__(self,value):\n",
    "        self.instance_variable = value\n",
    "\n",
    "    @classmethod\n",
    "    def add(cs,x,y):\n",
    "        print(cs.class_variable)\n",
    "        return x+y\n",
    "    \n",
    "    @staticmethod\n",
    "    def multiply(x,y):\n",
    "        return x*y\n",
    "    \n",
    "print(MathUtils.add(5,6))  #calling a class method\n",
    "print(MathUtils.multiply(4,6))    #calling a static method\n"
   ]
  },
  {
   "cell_type": "markdown",
   "metadata": {},
   "source": [
    "**Inheritance**"
   ]
  },
  {
   "cell_type": "code",
   "execution_count": 5,
   "metadata": {},
   "outputs": [
    {
     "name": "stdout",
     "output_type": "stream",
     "text": [
      "Cat\n",
      "Meow\n"
     ]
    }
   ],
   "source": [
    "class Animal:\n",
    "    def __init__(self,name):\n",
    "        self.name = name\n",
    "    \n",
    "    def speak(self):\n",
    "        print(\"Generic animal sound \")\n",
    "\n",
    "class Cat (Animal):\n",
    "    def speak(self):\n",
    "        print(\"Meow\")\n",
    "\n",
    "my_cat = Cat(\"Veronica\")\n",
    "print(Cat.__name__)\n",
    "my_cat.speak()"
   ]
  },
  {
   "cell_type": "markdown",
   "metadata": {},
   "source": [
    "**Types of Inheritance (Multiple Inheritance)**"
   ]
  },
  {
   "cell_type": "code",
   "execution_count": 3,
   "metadata": {},
   "outputs": [
    {
     "name": "stdout",
     "output_type": "stream",
     "text": [
      "Swimming...\n",
      "Walking...\n"
     ]
    }
   ],
   "source": [
    "class Swimmer:\n",
    "    def swim(self):\n",
    "        print(\"Swimming...\")\n",
    "    \n",
    "class Walker:\n",
    "    def walk(self):\n",
    "        print(\"Walking...\")\n",
    "\n",
    "class duck(Swimmer,Walker):     #Duck INherits from both Swimmer and Walker\n",
    "    pass\n",
    "\n",
    "my_duck = duck()\n",
    "my_duck.swim()\n",
    "my_duck.walk()"
   ]
  },
  {
   "cell_type": "markdown",
   "metadata": {},
   "source": [
    "**Polymorphism**"
   ]
  },
  {
   "cell_type": "code",
   "execution_count": 6,
   "metadata": {},
   "outputs": [
    {
     "name": "stdout",
     "output_type": "stream",
     "text": [
      "Generic animal sound \n",
      "Meow\n"
     ]
    }
   ],
   "source": [
    "def animal_sound(animal):\n",
    "    animal.speak()\n",
    "\n",
    "animal = Animal(\"Generic Animal\")\n",
    "cat = Cat(\"kitty\")\n",
    "animal_sound(animal)\n",
    "animal_sound(cat)"
   ]
  },
  {
   "cell_type": "markdown",
   "metadata": {},
   "source": [
    "**Abstraction**"
   ]
  },
  {
   "cell_type": "code",
   "execution_count": null,
   "metadata": {},
   "outputs": [],
   "source": [
    "from abc import ABC , abstractmethod\n",
    "\n",
    "class Shape(ABC):\n",
    "    @abstractmethod\n",
    "    def area(self):\n",
    "        pass\n",
    "class Circle(Shape):\n",
    "    def __init__(self, radius):\n",
    "        self.radius = radius\n",
    "\n",
    "    def area(self):\n",
    "        return 3.14 *self.radius *self.radius\n",
    "\n",
    "#shape = Shape() # can't create object f abstract cladd\n",
    "circle = Circle(5)\n",
    "print(circle.area())"
   ]
  },
  {
   "cell_type": "markdown",
   "metadata": {},
   "source": [
    "**Operator Overloading**"
   ]
  },
  {
   "cell_type": "code",
   "execution_count": null,
   "metadata": {},
   "outputs": [],
   "source": [
    "class Vector:\n",
    "    def __init__(self,x,y):\n",
    "        self.x = x\n",
    "        self.y = y\n",
    "\n",
    "    def __add__(self,other): # Overloading the + operator\n",
    "        return Vector(self.x + other.x, self.y + other.y)\n",
    "\n",
    "v1 = Vector(2,3)\n",
    "v2 = Vector(5,4)\n",
    "v3 = v1 + v2  # using the overloading + overator\n",
    "\n",
    "print(v3.x, v3.y)"
   ]
  },
  {
   "cell_type": "markdown",
   "metadata": {},
   "source": [
    "**Explanation to key concepts and Improvements**\n",
    "\n",
    "\n",
    "- Encapsulation: The use of __balance (name mangling) makes the attribute \"private\" (though not strictly enforced in Python). This is a common convention to indicate that an attribute should not be accessed directly from outside the class. Using getter and setter methods is the more Pythonic way to control access.\n",
    "- Decorators: The @my_decorator syntax is a concise way to apply decorators.\n",
    "- Class Methods: The cls parameter in class methods refers to the class itself.\n",
    "- Static Methods: Static methods don't have access to the class or instance.\n",
    "- Multiple Inheritance: The Duck class inherits methods from both Swimmer and Walker.\n",
    "- Polymorphism: The animal_sound function works with objects of both the Animal and Cat classes because they both have a speak() method.\n",
    "- Abstraction: The Shape class cannot be instantiated directly because it's abstract. The Circle class must implement the area() method.\n",
    "- Operator Overloading: The __add__ method defines how the + operator works with Vector objects."
   ]
  },
  {
   "cell_type": "markdown",
   "metadata": {},
   "source": [
    "**Task Project :**\n",
    "\n",
    "- **Data Management System** : Create a system to manage a collection of Data (e.g, a library catalog, a student database). Use lists , dictionaries, and potentially OOP to structure the data and implement operators like adding , searching , and deleting entries.\n",
    "\n",
    "\n",
    "in file -> Module 7 Data Management System.py "
   ]
  }
 ],
 "metadata": {
  "kernelspec": {
   "display_name": "Python 3",
   "language": "python",
   "name": "python3"
  },
  "language_info": {
   "codemirror_mode": {
    "name": "ipython",
    "version": 3
   },
   "file_extension": ".py",
   "mimetype": "text/x-python",
   "name": "python",
   "nbconvert_exporter": "python",
   "pygments_lexer": "ipython3",
   "version": "3.12.4"
  }
 },
 "nbformat": 4,
 "nbformat_minor": 2
}
