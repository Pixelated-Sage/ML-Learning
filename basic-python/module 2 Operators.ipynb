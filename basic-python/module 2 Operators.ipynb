{
 "cells": [
  {
   "cell_type": "markdown",
   "metadata": {},
   "source": [
    "Module 2 : Operators\n",
    "\n",
    "Arithmetic operators : covered in Module 1\n",
    "Logical operators : and, or , not. Used to combine or negate conditions. Essential for complex decision-making in you code."
   ]
  },
  {
   "cell_type": "code",
   "execution_count": null,
   "metadata": {},
   "outputs": [],
   "source": [
    "x = 5\n",
    "if x>0 and x<10 : \n",
    "    print(\"x is between 0 and 10\")"
   ]
  },
  {
   "cell_type": "markdown",
   "metadata": {},
   "source": [
    "Identity Comparison Operators: is, is not. Check if two variables refer to the same object in memory. Less frequently used in basic data anlysis but important for understanding object behavior.\n",
    "\n",
    "Membership test operators: in , not in. Check if a value is present in a sequence(String , list,tuple).\n",
    "Useful for data filtering and validation."
   ]
  },
  {
   "cell_type": "code",
   "execution_count": 1,
   "metadata": {},
   "outputs": [
    {
     "name": "stdout",
     "output_type": "stream",
     "text": [
      "2 is present in list\n"
     ]
    }
   ],
   "source": [
    "my_list = [1,2,3,4,5]\n",
    "\n",
    "if 2 in my_list:\n",
    "    print(\"2 is present in list\")"
   ]
  },
  {
   "cell_type": "markdown",
   "metadata": {},
   "source": [
    "Bitwise Operators : & (AND) , | (OR) , ^ (XOR) , ~(NOT) , <<(left shift) , >>(right shift). Less directly used in typical data analysis but can be important in low-Level optimizations or certain algorithms. We'll cover these in details if needed for specific AI/ML tasks."
   ]
  }
 ],
 "metadata": {
  "kernelspec": {
   "display_name": "Python 3",
   "language": "python",
   "name": "python3"
  },
  "language_info": {
   "codemirror_mode": {
    "name": "ipython",
    "version": 3
   },
   "file_extension": ".py",
   "mimetype": "text/x-python",
   "name": "python",
   "nbconvert_exporter": "python",
   "pygments_lexer": "ipython3",
   "version": "3.12.4"
  }
 },
 "nbformat": 4,
 "nbformat_minor": 2
}
