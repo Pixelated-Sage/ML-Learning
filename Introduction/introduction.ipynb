{
 "cells": [
  {
   "cell_type": "markdown",
   "metadata": {},
   "source": [
    "**A brief history:**\n",
    "\n",
    "- Brginning od the 19th century : least sqaure was developed, this is the earliest form of statistical modeling and predictive analysis of what we now call linear regression.\n",
    "\n",
    "- In 1936, linear discriminant analysis was proposed.\n",
    "\n",
    "- In 1940s, logistic regression was implimented.\n",
    "\n",
    "- In the early 1870s,generalized linear model is developed to generate an entire class of statistical learning models of which including both linear regression and logistic regression models.\n",
    "\n",
    "- By 1980s, computing technology has finally improves sufficiently that now-linear methods were no longer computationally prohibitive.\n",
    "\n",
    "- In the mid 1980s, classification and regreesssion\n"
   ]
  }
 ],
 "metadata": {
  "language_info": {
   "name": "python"
  }
 },
 "nbformat": 4,
 "nbformat_minor": 2
}
